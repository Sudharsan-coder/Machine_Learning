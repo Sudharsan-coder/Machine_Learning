{
 "cells": [
  {
   "cell_type": "markdown",
   "id": "1d1103fb",
   "metadata": {},
   "source": [
    "## Logistic Regression"
   ]
  },
  {
   "cell_type": "code",
   "execution_count": 1,
   "id": "153d5652",
   "metadata": {},
   "outputs": [],
   "source": [
    "import pandas as pd\n",
    "import numpy as np\n",
    "import matplotlib.pyplot as plt"
   ]
  },
  {
   "cell_type": "code",
   "execution_count": 2,
   "id": "7cc06691",
   "metadata": {},
   "outputs": [
    {
     "data": {
      "text/html": [
       "<div>\n",
       "<style scoped>\n",
       "    .dataframe tbody tr th:only-of-type {\n",
       "        vertical-align: middle;\n",
       "    }\n",
       "\n",
       "    .dataframe tbody tr th {\n",
       "        vertical-align: top;\n",
       "    }\n",
       "\n",
       "    .dataframe thead th {\n",
       "        text-align: right;\n",
       "    }\n",
       "</style>\n",
       "<table border=\"1\" class=\"dataframe\">\n",
       "  <thead>\n",
       "    <tr style=\"text-align: right;\">\n",
       "      <th></th>\n",
       "      <th>Age</th>\n",
       "      <th>Salary</th>\n",
       "      <th>Status</th>\n",
       "    </tr>\n",
       "  </thead>\n",
       "  <tbody>\n",
       "    <tr>\n",
       "      <th>0</th>\n",
       "      <td>18</td>\n",
       "      <td>82000</td>\n",
       "      <td>0</td>\n",
       "    </tr>\n",
       "    <tr>\n",
       "      <th>1</th>\n",
       "      <td>29</td>\n",
       "      <td>80000</td>\n",
       "      <td>0</td>\n",
       "    </tr>\n",
       "    <tr>\n",
       "      <th>2</th>\n",
       "      <td>47</td>\n",
       "      <td>25000</td>\n",
       "      <td>1</td>\n",
       "    </tr>\n",
       "    <tr>\n",
       "      <th>3</th>\n",
       "      <td>45</td>\n",
       "      <td>26000</td>\n",
       "      <td>1</td>\n",
       "    </tr>\n",
       "    <tr>\n",
       "      <th>4</th>\n",
       "      <td>46</td>\n",
       "      <td>28000</td>\n",
       "      <td>1</td>\n",
       "    </tr>\n",
       "  </tbody>\n",
       "</table>\n",
       "</div>"
      ],
      "text/plain": [
       "   Age  Salary  Status\n",
       "0   18   82000       0\n",
       "1   29   80000       0\n",
       "2   47   25000       1\n",
       "3   45   26000       1\n",
       "4   46   28000       1"
      ]
     },
     "execution_count": 2,
     "metadata": {},
     "output_type": "execute_result"
    }
   ],
   "source": [
    "data=pd.read_csv(\"DigitalAd_dataset.csv\")\n",
    "data.head()"
   ]
  },
  {
   "cell_type": "code",
   "execution_count": 3,
   "id": "aac9caaa",
   "metadata": {},
   "outputs": [],
   "source": [
    "x=pd.DataFrame(data.iloc[:,:-1])\n",
    "y=pd.DataFrame(data.iloc[:,-1])"
   ]
  },
  {
   "cell_type": "markdown",
   "id": "128d67ed",
   "metadata": {},
   "source": [
    "## Scalling"
   ]
  },
  {
   "cell_type": "code",
   "execution_count": 4,
   "id": "bac6ec5d",
   "metadata": {},
   "outputs": [],
   "source": [
    "def up_scale(x):\n",
    "    m,s,new_x=[],[],pd.DataFrame(columns=x.columns)\n",
    "    for i in x:\n",
    "        m.append(np.mean(x[i]))\n",
    "        s.append(np.std(x[i]))\n",
    "    for i,j,k in zip(m,s,x):\n",
    "        new_x[k]=((x[k]-i)/j)\n",
    "    return new_x,m,s"
   ]
  },
  {
   "cell_type": "code",
   "execution_count": 5,
   "id": "8b837211",
   "metadata": {},
   "outputs": [
    {
     "name": "stdout",
     "output_type": "stream",
     "text": [
      "        Age    Salary\n",
      "0 -1.877311  0.359940\n",
      "1 -0.826666  0.301210\n",
      "2  0.892570 -1.313857\n",
      "3  0.701544 -1.284492\n",
      "4  0.797057 -1.225763\n",
      "[37.655, 69742.5] [10.469764801560734, 34054.3124104716]\n"
     ]
    }
   ],
   "source": [
    "scaled_x,x_mean,x_std=up_scale(x)\n",
    "print(scaled_x.head())\n",
    "print(x_mean,x_std)"
   ]
  },
  {
   "cell_type": "code",
   "execution_count": 6,
   "id": "956993e8",
   "metadata": {},
   "outputs": [],
   "source": [
    "def down_scale(x,m,s):\n",
    "    new_x=pd.DataFrame(columns=x.columns)\n",
    "    for i,j,k in zip(x,m,s):\n",
    "        new_x[i]=(k*x[i]+j).astype(int)\n",
    "    return new_x"
   ]
  },
  {
   "cell_type": "code",
   "execution_count": 7,
   "id": "62d8cb6f",
   "metadata": {},
   "outputs": [
    {
     "name": "stdout",
     "output_type": "stream",
     "text": [
      "     Age  Salary\n",
      "395   35   65000\n",
      "396   26   80000\n",
      "397   26   52000\n",
      "398   20   86000\n",
      "399   32   18000\n",
      "     Age  Salary\n",
      "395   35   65000\n",
      "396   26   80000\n",
      "397   26   52000\n",
      "398   20   86000\n",
      "399   32   18000\n"
     ]
    }
   ],
   "source": [
    "down_x=down_scale(scaled_x,x_mean,x_std)\n",
    "print(down_x.tail())\n",
    "print(x.tail())"
   ]
  },
  {
   "cell_type": "markdown",
   "id": "98fc1203",
   "metadata": {},
   "source": [
    "## Using library method"
   ]
  },
  {
   "cell_type": "code",
   "execution_count": 19,
   "id": "b5398ba8",
   "metadata": {},
   "outputs": [],
   "source": [
    "from sklearn.linear_model import LogisticRegression\n",
    "from sklearn.model_selection import train_test_split\n",
    "\n",
    "x_train,x_test,y_train,y_test=train_test_split(scaled_x,y,random_state=1,test_size=1/3)\n",
    "\n",
    "model=LogisticRegression()\n",
    "model.fit(x_train,np.array(y_train).ravel())\n",
    "\n",
    "pre=model.predict(x_test)"
   ]
  },
  {
   "cell_type": "code",
   "execution_count": 20,
   "id": "eec20628",
   "metadata": {},
   "outputs": [
    {
     "name": "stdout",
     "output_type": "stream",
     "text": [
      "79.8507462686567\n"
     ]
    }
   ],
   "source": [
    "from sklearn.metrics import accuracy_score\n",
    "print(accuracy_score(pre,y_test)*100)"
   ]
  },
  {
   "cell_type": "code",
   "execution_count": 21,
   "id": "b17ab37d",
   "metadata": {},
   "outputs": [
    {
     "name": "stdout",
     "output_type": "stream",
     "text": [
      "[[72 23]\n",
      " [ 4 35]]\n"
     ]
    }
   ],
   "source": [
    "from sklearn.metrics import confusion_matrix\n",
    "cm=confusion_matrix(pre,np.array(y_test))\n",
    "print(cm)"
   ]
  },
  {
   "cell_type": "code",
   "execution_count": 22,
   "id": "bfffb1c5",
   "metadata": {},
   "outputs": [],
   "source": [
    "def accuracy(y_pre,y_true):\n",
    "    s=0.0\n",
    "    for i,j in zip(y_pre,y_true):\n",
    "        if(i==j):\n",
    "            s+=1;\n",
    "    s*=100.0\n",
    "    return s/len(y_pre)"
   ]
  },
  {
   "cell_type": "markdown",
   "id": "82a18ad1",
   "metadata": {},
   "source": [
    "Loss : (-y * np.log(y_pre) - (1 - y) * np.log(1 - y_pre)).mean()"
   ]
  },
  {
   "cell_type": "code",
   "execution_count": 23,
   "id": "41b8d0aa",
   "metadata": {},
   "outputs": [
    {
     "name": "stdout",
     "output_type": "stream",
     "text": [
      "79.85074626865672\n"
     ]
    }
   ],
   "source": [
    "print(accuracy(np.array(pre),np.array(y_test).ravel()))"
   ]
  },
  {
   "cell_type": "markdown",
   "id": "a8c04aac",
   "metadata": {},
   "source": [
    "# Gradient Descent"
   ]
  },
  {
   "cell_type": "markdown",
   "id": "c4e4da20",
   "metadata": {},
   "source": [
    "## Formula<br>\n",
    "<pre style=\"font-family:verdana;\">To update the weight and bias values:\n",
    "        w=w-L*dw\n",
    "        b=b-L*db\n",
    "        here w is weight \n",
    "                b is bias\n",
    "                L is learning rate\n",
    "                dw is change in the weight\n",
    "                db is change in the bias\n",
    "To find dw,db\n",
    "       dw=sum((w*x+b-y)*w)/n\n",
    "       db=sum(w*x+b-y)/n\n",
    "</pre>"
   ]
  },
  {
   "cell_type": "code",
   "execution_count": 24,
   "id": "039dffb8",
   "metadata": {},
   "outputs": [],
   "source": [
    "def difference(x,y,w,b):\n",
    "    n=len(x)\n",
    "    pre=prediction(x,w,b)\n",
    "    dw=(1/n)*np.dot(np.sum(x,axis=1),(y-np.array(pre)))\n",
    "    db=(1/n)*np.sum(y-pre)\n",
    "    return np.array(dw).astype(float),np.array(db).astype(float)"
   ]
  },
  {
   "cell_type": "code",
   "execution_count": 25,
   "id": "62b18ae2",
   "metadata": {},
   "outputs": [],
   "source": [
    "def sigmoid(z):\n",
    "    z = np.clip(z, -500, 500)\n",
    "    return 1.0/(1+np.exp(-z))"
   ]
  },
  {
   "cell_type": "code",
   "execution_count": 26,
   "id": "07247ba5",
   "metadata": {},
   "outputs": [],
   "source": [
    "def prediction(x,w,b):\n",
    "    pre=np.array(sigmoid(np.dot(x,w)+b))\n",
    "    return np.where(pre>=0.5,1,0)"
   ]
  },
  {
   "cell_type": "code",
   "execution_count": 27,
   "id": "0d44de06",
   "metadata": {},
   "outputs": [],
   "source": [
    "def gradient_descent(x,y,no_iteration,learning_rate):\n",
    "    w=np.zeros((x.shape[1],1)).astype(float)\n",
    "    b=np.array([0])\n",
    "    for i in range(no_iteration):\n",
    "        w_change,b_change=zip(difference(x,y,w,b) )\n",
    "        w=w+learning_rate*np.array(w_change)\n",
    "        b=b+learning_rate*np.array(b_change)\n",
    "        if((i+1)%100==0):\n",
    "            print(f\"Iteration no.{i+1} and the accuracy is {accuracy(prediction(x,w,b),np.array(y))}\")# w:{w} , b:{b}\")  \n",
    "    return w,b"
   ]
  },
  {
   "cell_type": "code",
   "execution_count": 28,
   "id": "475aaf6f",
   "metadata": {},
   "outputs": [
    {
     "name": "stdout",
     "output_type": "stream",
     "text": [
      "Iteration no.100 and the accuracy is 82.70676691729324\n",
      "Iteration no.200 and the accuracy is 84.9624060150376\n",
      "Iteration no.300 and the accuracy is 85.33834586466165\n",
      "Iteration no.400 and the accuracy is 85.33834586466165\n",
      "Iteration no.500 and the accuracy is 85.71428571428571\n",
      "Iteration no.600 and the accuracy is 85.33834586466165\n"
     ]
    }
   ],
   "source": [
    "new_w,new_b=gradient_descent(x_train,np.array(y_train),600,1e-2)"
   ]
  },
  {
   "cell_type": "code",
   "execution_count": 29,
   "id": "e55d6b58",
   "metadata": {},
   "outputs": [
    {
     "name": "stdout",
     "output_type": "stream",
     "text": [
      "78.35820895522389\n"
     ]
    }
   ],
   "source": [
    "print(accuracy(prediction(x_test,new_w,new_b),np.array(y_test)))"
   ]
  },
  {
   "cell_type": "markdown",
   "id": "326e11ce",
   "metadata": {},
   "source": [
    "### *CONFUSION MATRIX*\n",
    "![image.png](data:image/png;base64,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)\n",
    "\n",
    "![image.png](data:image/png;base64,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)"
   ]
  },
  {
   "cell_type": "code",
   "execution_count": 42,
   "id": "d5de1ee8",
   "metadata": {},
   "outputs": [],
   "source": [
    "def confusion_matrix(pre,y):\n",
    "    TP,FP,TN,FN=0,0,0,0\n",
    "    for i,j in zip(pre,y):\n",
    "        if(i==j):\n",
    "            if (j==1):\n",
    "                TP+=1\n",
    "            else:\n",
    "                TN+=1\n",
    "        else:\n",
    "            if(j==1):\n",
    "                FP+=1\n",
    "            else:\n",
    "                FN+=1\n",
    "    ans=np.array([[TN,FP],[FN,TP]])\n",
    "    return ans"
   ]
  },
  {
   "cell_type": "code",
   "execution_count": 43,
   "id": "a01c5be5",
   "metadata": {},
   "outputs": [
    {
     "data": {
      "text/plain": [
       "array([[60, 10],\n",
       "       [ 7, 23]])"
      ]
     },
     "execution_count": 43,
     "metadata": {},
     "output_type": "execute_result"
    }
   ],
   "source": [
    "confusion_matrix(prediction(x_test,new_w,new_b),np.array(y_test))"
   ]
  },
  {
   "cell_type": "code",
   "execution_count": 44,
   "id": "6fe425fa",
   "metadata": {
    "scrolled": true
   },
   "outputs": [
    {
     "name": "stdout",
     "output_type": "stream",
     "text": [
      "[[60 10]\n",
      " [ 7 23]]\n"
     ]
    }
   ],
   "source": [
    "from sklearn.metrics import confusion_matrix\n",
    "cm=confusion_matrix(prediction(x_test,new_w,new_b),np.array(y_test))\n",
    "print(cm)"
   ]
  },
  {
   "cell_type": "code",
   "execution_count": 45,
   "id": "9ed51858",
   "metadata": {},
   "outputs": [
    {
     "data": {
      "text/plain": [
       "<sklearn.metrics._plot.confusion_matrix.ConfusionMatrixDisplay at 0x1bef3cb9130>"
      ]
     },
     "execution_count": 45,
     "metadata": {},
     "output_type": "execute_result"
    },
    {
     "data": {
      "image/png": "[encoded data removed]",
      "text/plain": [
       "<Figure size 432x288 with 2 Axes>"
      ]
     },
     "metadata": {
      "needs_background": "light"
     },
     "output_type": "display_data"
    }
   ],
   "source": [
    "from sklearn import metrics\n",
    "con_met=metrics.ConfusionMatrixDisplay(confusion_matrix = cm, display_labels = [False, True])\n",
    "con_met.plot()"
   ]
  }
 ],
 "metadata": {
  "kernelspec": {
   "display_name": "Python 3 (ipykernel)",
   "language": "python",
   "name": "python3"
  },
  "language_info": {
   "codemirror_mode": {
    "name": "ipython",
    "version": 3
   },
   "file_extension": ".py",
   "mimetype": "text/x-python",
   "name": "python",
   "nbconvert_exporter": "python",
   "pygments_lexer": "ipython3",
   "version": "3.9.7"
  },
  "vscode": {
   "interpreter": {
    "hash": "9e1edbd7f15e4d61809abf2896a896810c7cdc5e9581406efad368618b197e08"
   }
  }
 },
 "nbformat": 4,
 "nbformat_minor": 5
}
