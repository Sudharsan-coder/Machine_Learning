{
 "cells": [
  {
   "cell_type": "markdown",
   "id": "b44aed70",
   "metadata": {},
   "source": [
    "<h1>Linear Regression<h1>"
   ]
  },
  {
   "cell_type": "markdown",
   "id": "0ca5073c",
   "metadata": {},
   "source": [
    "Linear regression is a supervised machine learning algorithm used to predict a numerical value given a set of features or independent variables. It is a type of regression analysis that models the relationship between a dependent variable and one or more independent variables by fitting a linear equation to observed data. The linear regression algorithm is used to uncover the correlation between variables and predict future outcomes. It is used in a wide range of applications, such as predicting housing prices, analyzing risk in financial markets, and forecasting sales and demand."
   ]
  },
  {
   "cell_type": "code",
   "execution_count": 1,
   "id": "a39c4535",
   "metadata": {},
   "outputs": [],
   "source": [
    "import numpy as np\n",
    "import pandas as pd\n",
    "import matplotlib.pyplot as plt"
   ]
  },
  {
   "cell_type": "code",
   "execution_count": 2,
   "id": "bbe0d301",
   "metadata": {},
   "outputs": [],
   "source": [
    "df=pd.read_csv(\"dataset.csv\")"
   ]
  },
  {
   "cell_type": "code",
   "execution_count": 3,
   "id": "3bb4fcc2",
   "metadata": {},
   "outputs": [
    {
     "data": {
      "text/html": [
       "<div>\n",
       "<style scoped>\n",
       "    .dataframe tbody tr th:only-of-type {\n",
       "        vertical-align: middle;\n",
       "    }\n",
       "\n",
       "    .dataframe tbody tr th {\n",
       "        vertical-align: top;\n",
       "    }\n",
       "\n",
       "    .dataframe thead th {\n",
       "        text-align: right;\n",
       "    }\n",
       "</style>\n",
       "<table border=\"1\" class=\"dataframe\">\n",
       "  <thead>\n",
       "    <tr style=\"text-align: right;\">\n",
       "      <th></th>\n",
       "      <th>area</th>\n",
       "      <th>price</th>\n",
       "    </tr>\n",
       "  </thead>\n",
       "  <tbody>\n",
       "    <tr>\n",
       "      <th>0</th>\n",
       "      <td>8450</td>\n",
       "      <td>208500</td>\n",
       "    </tr>\n",
       "    <tr>\n",
       "      <th>1</th>\n",
       "      <td>9600</td>\n",
       "      <td>181500</td>\n",
       "    </tr>\n",
       "    <tr>\n",
       "      <th>2</th>\n",
       "      <td>11250</td>\n",
       "      <td>223500</td>\n",
       "    </tr>\n",
       "    <tr>\n",
       "      <th>3</th>\n",
       "      <td>9550</td>\n",
       "      <td>140000</td>\n",
       "    </tr>\n",
       "    <tr>\n",
       "      <th>4</th>\n",
       "      <td>14260</td>\n",
       "      <td>250000</td>\n",
       "    </tr>\n",
       "  </tbody>\n",
       "</table>\n",
       "</div>"
      ],
      "text/plain": [
       "    area   price\n",
       "0   8450  208500\n",
       "1   9600  181500\n",
       "2  11250  223500\n",
       "3   9550  140000\n",
       "4  14260  250000"
      ]
     },
     "execution_count": 3,
     "metadata": {},
     "output_type": "execute_result"
    }
   ],
   "source": [
    "df.head()"
   ]
  },
  {
   "cell_type": "code",
   "execution_count": 4,
   "id": "f69b0955",
   "metadata": {},
   "outputs": [],
   "source": [
    "x=np.array(df['area']) #independent variable\n",
    "y=np.array(df['price']) #dependent variable"
   ]
  },
  {
   "cell_type": "code",
   "execution_count": 5,
   "id": "63d1bf76",
   "metadata": {},
   "outputs": [
    {
     "data": {
      "text/plain": [
       "array([[  8450,   9600,  11250, ...,   9042,   9717,   9937],\n",
       "       [208500, 181500, 223500, ..., 266500, 142125, 147500]], dtype=int64)"
      ]
     },
     "execution_count": 5,
     "metadata": {},
     "output_type": "execute_result"
    }
   ],
   "source": [
    "np.vstack((x,y))"
   ]
  },
  {
   "cell_type": "markdown",
   "id": "ce22f059",
   "metadata": {},
   "source": [
    "## Normal equation Method"
   ]
  },
  {
   "cell_type": "markdown",
   "id": "6b97cd90",
   "metadata": {},
   "source": [
    "## Formula :<br>\n",
    "<pre style=\"font-family:verdana;\">    Main Equation : y=wx+b (which is much similar to the straight line equation y=mx+c)<br>\n",
    "         here w is called the coefficient<br>\n",
    "                 b is called the intercept<br><br>\n",
    "    To find w : w=r*(std(y)/std(x))<br>\n",
    "         where r=(sum((x-x_mean)*(y-y_mean))/sqrt(sum(x-x_mean)**2 * sum(y-y_mean)**2)))<br><br>\n",
    "    To find a : b=w*x_mean-y_mean\n",
    "</pre>    "
   ]
  },
  {
   "cell_type": "code",
   "execution_count": 6,
   "id": "799bfcbb",
   "metadata": {},
   "outputs": [],
   "source": [
    "def fit(x_value,y_value):\n",
    "    \n",
    "    x_mean=np.mean(x_value)\n",
    "    y_mean=np.mean(y_value)\n",
    "    numerator=0\n",
    "    denominator_x=0\n",
    "    denominator_y=0\n",
    "    \n",
    "    for i in range(len(x)):\n",
    "        numerator+=(x_value[i]-x_mean)*(y_value[i]-y_mean)\n",
    "        denominator_x+=(x_value[i]-x_mean)**2\n",
    "        denominator_y+=(y_value[i]-y_mean)**2\n",
    "        \n",
    "    r=numerator/np.sqrt(denominator_x*denominator_y)\n",
    "    \n",
    "    f_w=r*(np.std(y_value)/np.std(x_value))\n",
    "    f_b=abs(f_w*x_mean-y_mean)\n",
    "    \n",
    "    Y=f_w*x+f_b\n",
    "    \n",
    "    return f_w,f_b"
   ]
  },
  {
   "cell_type": "code",
   "execution_count": 7,
   "id": "e98f61ac",
   "metadata": {},
   "outputs": [],
   "source": [
    "def predict(x_value,f_w,f_b):\n",
    "    return f_w*x_value+f_b  #formula for the final equation"
   ]
  },
  {
   "cell_type": "code",
   "execution_count": 8,
   "id": "9af7e701",
   "metadata": {},
   "outputs": [],
   "source": [
    "formula_predict_value=[]\n",
    "f_w,f_b=fit(x,y)\n",
    "formula_predict_value.extend(predict(x,f_w,f_b)) "
   ]
  },
  {
   "cell_type": "markdown",
   "id": "fd9b3aa1",
   "metadata": {},
   "source": [
    "## Scikit Learn library Method"
   ]
  },
  {
   "cell_type": "code",
   "execution_count": 9,
   "id": "f949e6e8",
   "metadata": {},
   "outputs": [],
   "source": [
    "from sklearn.linear_model import LinearRegression\n",
    "\n",
    "model=LinearRegression()\n",
    "model.fit(pd.DataFrame(x),y)  #training the model\n",
    "model_predict_value=model.predict(pd.DataFrame(x))    #testing the model"
   ]
  },
  {
   "cell_type": "markdown",
   "id": "7b033884",
   "metadata": {},
   "source": [
    "<b>Comparing the manual value with the library model value<b>"
   ]
  },
  {
   "cell_type": "code",
   "execution_count": 10,
   "id": "e6cb44f6",
   "metadata": {},
   "outputs": [
    {
     "name": "stdout",
     "output_type": "stream",
     "text": [
      "2.0999719517076754 2.09997195170768\n",
      "158836.15189687657 158836.15189687654\n"
     ]
    }
   ],
   "source": [
    "print(model.coef_[0],f_w)\n",
    "print(model.intercept_,f_b)"
   ]
  },
  {
   "cell_type": "code",
   "execution_count": 11,
   "id": "46520f35",
   "metadata": {},
   "outputs": [],
   "source": [
    "predict={'formula_predict':formula_predict_value,'model_predict':model_predict_value}\n",
    "result=pd.DataFrame(predict,columns=predict.keys())"
   ]
  },
  {
   "cell_type": "code",
   "execution_count": 12,
   "id": "fe83fe3f",
   "metadata": {},
   "outputs": [
    {
     "data": {
      "text/html": [
       "<div>\n",
       "<style scoped>\n",
       "    .dataframe tbody tr th:only-of-type {\n",
       "        vertical-align: middle;\n",
       "    }\n",
       "\n",
       "    .dataframe tbody tr th {\n",
       "        vertical-align: top;\n",
       "    }\n",
       "\n",
       "    .dataframe thead th {\n",
       "        text-align: right;\n",
       "    }\n",
       "</style>\n",
       "<table border=\"1\" class=\"dataframe\">\n",
       "  <thead>\n",
       "    <tr style=\"text-align: right;\">\n",
       "      <th></th>\n",
       "      <th>formula_predict</th>\n",
       "      <th>model_predict</th>\n",
       "    </tr>\n",
       "  </thead>\n",
       "  <tbody>\n",
       "    <tr>\n",
       "      <th>0</th>\n",
       "      <td>176580.914889</td>\n",
       "      <td>176580.914889</td>\n",
       "    </tr>\n",
       "    <tr>\n",
       "      <th>1</th>\n",
       "      <td>178995.882633</td>\n",
       "      <td>178995.882633</td>\n",
       "    </tr>\n",
       "    <tr>\n",
       "      <th>2</th>\n",
       "      <td>182460.836354</td>\n",
       "      <td>182460.836354</td>\n",
       "    </tr>\n",
       "    <tr>\n",
       "      <th>3</th>\n",
       "      <td>178890.884036</td>\n",
       "      <td>178890.884036</td>\n",
       "    </tr>\n",
       "    <tr>\n",
       "      <th>4</th>\n",
       "      <td>188781.751928</td>\n",
       "      <td>188781.751928</td>\n",
       "    </tr>\n",
       "  </tbody>\n",
       "</table>\n",
       "</div>"
      ],
      "text/plain": [
       "   formula_predict  model_predict\n",
       "0    176580.914889  176580.914889\n",
       "1    178995.882633  178995.882633\n",
       "2    182460.836354  182460.836354\n",
       "3    178890.884036  178890.884036\n",
       "4    188781.751928  188781.751928"
      ]
     },
     "execution_count": 12,
     "metadata": {},
     "output_type": "execute_result"
    }
   ],
   "source": [
    "result.head()"
   ]
  },
  {
   "cell_type": "markdown",
   "id": "76b1a850",
   "metadata": {},
   "source": [
    "## Gradient Descent"
   ]
  },
  {
   "cell_type": "markdown",
   "id": "59918305",
   "metadata": {},
   "source": [
    "## Formula<br>\n",
    "<pre style=\"font-family:verdana;\">To update the weight and bias values:\n",
    "        w=w-L*dw\n",
    "        b=b-L*db\n",
    "        here w is weight \n",
    "                b is bias\n",
    "                L is learning rate\n",
    "                dw is change in the weight\n",
    "                db is change in the bias\n",
    "To find dw,db\n",
    "       dw=sum((w*x+b-y)*w)/n\n",
    "       db=sum(w*x+b-y)/n\n",
    "</pre>"
   ]
  },
  {
   "cell_type": "code",
   "execution_count": 13,
   "id": "23af5df9",
   "metadata": {},
   "outputs": [],
   "source": [
    "# Manual Method Using Gradient descent\n",
    "\n",
    "def difference(x,y,w,b):\n",
    "    \n",
    "    n=len(x)\n",
    "    dj_db=0\n",
    "    dj_dw=0\n",
    "    \n",
    "    for i in range(n):\n",
    "        f_x=w*x[i]+b\n",
    "        dj_db+=(f_x-y[i])\n",
    "        dj_dw+=(f_x-y[i])*x[i]\n",
    "        \n",
    "    dj_db/=n\n",
    "    dj_dw/=n\n",
    "    \n",
    "    return dj_db,dj_dw"
   ]
  },
  {
   "cell_type": "code",
   "execution_count": 15,
   "id": "30b2afba",
   "metadata": {},
   "outputs": [],
   "source": [
    "def gradient_descent(x,y,w,b,learning_rate,n):\n",
    "    \n",
    "    error=[error_rate(x,y,w,b)]    #this function error_rate is decleared bellow in the error section, so run it before running this cell\n",
    "    w_values=[w]\n",
    "    b_values=[b]\n",
    "    \n",
    "    for i in range(n):\n",
    "        db,dw=difference(x,y,w,b)\n",
    "        w=w-learning_rate*dw\n",
    "        b=b-learning_rate*db\n",
    "        \n",
    "        error.append(error_rate(x,y,w,b))   \n",
    "        w_values.append(w)\n",
    "        b_values.append(b)\n",
    "        \n",
    "    size=len(error)\n",
    "    df=pd.DataFrame({'error':error,'w':w_values,'b':b_values})\n",
    "    print(df.tail())\n",
    "    \n",
    "    print(\"\\nThe final error rate is :\",error[size-1])\n",
    "    \n",
    "    plt.figure(figsize=(20,10))\n",
    "    plt.plot(w_values,error,marker='.',markersize=1)\n",
    "    plt.xlabel(\"Weight_values\",fontsize=20)\n",
    "    plt.ylabel(\"Error_values\",fontsize=20)\n",
    "    \n",
    "    return w,b"
   ]
  },
  {
   "cell_type": "code",
   "execution_count": 16,
   "id": "d2a477c6",
   "metadata": {},
   "outputs": [
    {
     "name": "stdout",
     "output_type": "stream",
     "text": [
      "             error          w         b\n",
      "2996  1.899136e+16  10.048309  2.029363\n",
      "2997  1.899136e+16  10.048309  2.030041\n",
      "2998  1.899136e+16  10.048309  2.030718\n",
      "2999  1.899136e+16  10.048309  2.031395\n",
      "3000  1.899136e+16  10.048309  2.032072\n",
      "\n",
      "The final error rate is : 1.8991362509292676e+16\n"
     ]
    },
    {
     "data": {
      "image/png": "[encoded data removed]",
      "text/plain": [
       "<Figure size 1440x720 with 1 Axes>"
      ]
     },
     "metadata": {
      "needs_background": "light"
     },
     "output_type": "display_data"
    }
   ],
   "source": [
    "w,b=gradient_descent(x,y,0,0,0.000000009,3000)  #trying the gradient descent without proper bias and weight value"
   ]
  },
  {
   "cell_type": "code",
   "execution_count": 17,
   "id": "05a654ec",
   "metadata": {},
   "outputs": [
    {
     "name": "stdout",
     "output_type": "stream",
     "text": [
      "             error         w              b\n",
      "2996  6.253850e+15  2.099972  158836.152002\n",
      "2997  6.253850e+15  2.099972  158836.152002\n",
      "2998  6.253850e+15  2.099972  158836.152002\n",
      "2999  6.253850e+15  2.099972  158836.152002\n",
      "3000  6.253850e+15  2.099972  158836.152002\n",
      "\n",
      "The final error rate is : 6253850212170168.0\n"
     ]
    },
    {
     "data": {
      "image/png": "[encoded data removed]",
      "text/plain": [
       "<Figure size 1440x720 with 1 Axes>"
      ]
     },
     "metadata": {
      "needs_background": "light"
     },
     "output_type": "display_data"
    }
   ],
   "source": [
    "w,b=gradient_descent(x,y,0,158836.15189687654,0.000000009,3000)  #Fixing the perfect bias and weight value"
   ]
  },
  {
   "cell_type": "markdown",
   "id": "b398eef6",
   "metadata": {},
   "source": [
    "Here you can see that the graph converging to a minimum value near the waight value 2.The most important thing in gradient descenting is parameter tuning, means changing the weight,bias,learning rate and number of iterations values to find the perfect fit of the model"
   ]
  },
  {
   "cell_type": "markdown",
   "id": "a0ff656e",
   "metadata": {},
   "source": [
    "## ERROR\n",
    "\n",
    "## formula\n",
    "<pre style=\"font-family:verdana;\">error=sum((y-y^)**2)/2*n\n",
    "here y is original value \n",
    "        y^(pronounced as y cap) is the predicted value\n",
    "</per> "
   ]
  },
  {
   "cell_type": "code",
   "execution_count": 14,
   "id": "e1d88093",
   "metadata": {},
   "outputs": [],
   "source": [
    "def error_rate(x,y,w,b):\n",
    "    error=0\n",
    "    for i in range(len(x)):\n",
    "        pre=x[i]*w+b\n",
    "        error+=(pre-y[i])**2\n",
    "    return error/2*len(y)"
   ]
  },
  {
   "cell_type": "code",
   "execution_count": 18,
   "id": "0ae3241c",
   "metadata": {},
   "outputs": [
    {
     "name": "stdout",
     "output_type": "stream",
     "text": [
      "Manually error value : 6253850212170179.0\n"
     ]
    }
   ],
   "source": [
    "f_error=error_rate(x,y,f_w,f_b)\n",
    "print(\"Manually error value :\",f_error)"
   ]
  },
  {
   "cell_type": "code",
   "execution_count": 19,
   "id": "5d6da336",
   "metadata": {},
   "outputs": [
    {
     "name": "stdout",
     "output_type": "stream",
     "text": [
      "Library function error value : 6253850212170178.0\n"
     ]
    }
   ],
   "source": [
    "l_error=error_rate(x,y,model.coef_[0],model.intercept_)\n",
    "print(\"Library function error value :\",l_error)"
   ]
  },
  {
   "cell_type": "code",
   "execution_count": 20,
   "id": "86efe6c4",
   "metadata": {},
   "outputs": [
    {
     "name": "stdout",
     "output_type": "stream",
     "text": [
      "Gradient descent error value : 6253850212170168.0\n"
     ]
    }
   ],
   "source": [
    "f_g_error=error_rate(x,y,w,b)\n",
    "print(\"Gradient descent error value :\",f_g_error)"
   ]
  },
  {
   "cell_type": "code",
   "execution_count": 21,
   "id": "c5fee205",
   "metadata": {},
   "outputs": [
    {
     "data": {
      "text/plain": [
       "Text(0, 0.5, 'Error')"
      ]
     },
     "execution_count": 21,
     "metadata": {},
     "output_type": "execute_result"
    },
    {
     "data": {
      "image/png": "[encoded data removed]",
      "text/plain": [
       "<Figure size 432x288 with 1 Axes>"
      ]
     },
     "metadata": {
      "needs_background": "light"
     },
     "output_type": "display_data"
    }
   ],
   "source": [
    "plt.bar(['formula','library','gradient_descent'],[f_error%100,l_error%100,f_g_error%100])\n",
    "plt.ylabel('Error',fontsize=20)"
   ]
  },
  {
   "cell_type": "markdown",
   "id": "123d34c1",
   "metadata": {},
   "source": [
    "here you can see that the gradient descent is performing low than the other methods without scaling"
   ]
  },
  {
   "cell_type": "code",
   "execution_count": 22,
   "id": "d31d5fe5",
   "metadata": {},
   "outputs": [
    {
     "data": {
      "text/html": [
       "<div>\n",
       "<style scoped>\n",
       "    .dataframe tbody tr th:only-of-type {\n",
       "        vertical-align: middle;\n",
       "    }\n",
       "\n",
       "    .dataframe tbody tr th {\n",
       "        vertical-align: top;\n",
       "    }\n",
       "\n",
       "    .dataframe thead th {\n",
       "        text-align: right;\n",
       "    }\n",
       "</style>\n",
       "<table border=\"1\" class=\"dataframe\">\n",
       "  <thead>\n",
       "    <tr style=\"text-align: right;\">\n",
       "      <th></th>\n",
       "      <th>formula_predict</th>\n",
       "      <th>model_predict</th>\n",
       "      <th>gradient_descent</th>\n",
       "      <th>original_value</th>\n",
       "    </tr>\n",
       "  </thead>\n",
       "  <tbody>\n",
       "    <tr>\n",
       "      <th>0</th>\n",
       "      <td>176580.914889</td>\n",
       "      <td>176580.914889</td>\n",
       "      <td>176580.914949</td>\n",
       "      <td>208500</td>\n",
       "    </tr>\n",
       "    <tr>\n",
       "      <th>1</th>\n",
       "      <td>178995.882633</td>\n",
       "      <td>178995.882633</td>\n",
       "      <td>178995.882688</td>\n",
       "      <td>181500</td>\n",
       "    </tr>\n",
       "    <tr>\n",
       "      <th>2</th>\n",
       "      <td>182460.836354</td>\n",
       "      <td>182460.836354</td>\n",
       "      <td>182460.836400</td>\n",
       "      <td>223500</td>\n",
       "    </tr>\n",
       "    <tr>\n",
       "      <th>3</th>\n",
       "      <td>178890.884036</td>\n",
       "      <td>178890.884036</td>\n",
       "      <td>178890.884091</td>\n",
       "      <td>140000</td>\n",
       "    </tr>\n",
       "    <tr>\n",
       "      <th>4</th>\n",
       "      <td>188781.751928</td>\n",
       "      <td>188781.751928</td>\n",
       "      <td>188781.751958</td>\n",
       "      <td>250000</td>\n",
       "    </tr>\n",
       "  </tbody>\n",
       "</table>\n",
       "</div>"
      ],
      "text/plain": [
       "   formula_predict  model_predict  gradient_descent  original_value\n",
       "0    176580.914889  176580.914889     176580.914949          208500\n",
       "1    178995.882633  178995.882633     178995.882688          181500\n",
       "2    182460.836354  182460.836354     182460.836400          223500\n",
       "3    178890.884036  178890.884036     178890.884091          140000\n",
       "4    188781.751928  188781.751928     188781.751958          250000"
      ]
     },
     "execution_count": 22,
     "metadata": {},
     "output_type": "execute_result"
    }
   ],
   "source": [
    "result['gradient_descent']=x*w+b\n",
    "result['original_value']=y\n",
    "\n",
    "result.head()"
   ]
  },
  {
   "cell_type": "markdown",
   "id": "a837cc3a",
   "metadata": {},
   "source": [
    "## Scaling "
   ]
  },
  {
   "cell_type": "code",
   "execution_count": 23,
   "id": "72379453",
   "metadata": {},
   "outputs": [],
   "source": [
    "def z_up_scale(x):   #it converts all the values nearer to zero(simply like encoding)\n",
    "    x_mean=np.mean(x)\n",
    "    x_std=np.std(x)\n",
    "    x_scaled=(x-x_mean)/x_std  #here we have used the z scaling methode\n",
    "    \n",
    "    return x_scaled,x_mean,x_std"
   ]
  },
  {
   "cell_type": "code",
   "execution_count": 24,
   "id": "d876cd65",
   "metadata": {},
   "outputs": [],
   "source": [
    "def z_down_scale(x_value,x_mean,x_std):#it convert the converted values into original values(simply like decoding)\n",
    "    return x_value*x_std+x_mean"
   ]
  },
  {
   "cell_type": "code",
   "execution_count": 25,
   "id": "a4683b83",
   "metadata": {},
   "outputs": [],
   "source": [
    "x_scaled,x_mean,x_std=z_up_scale(x)\n",
    "y_scaled,y_mean,y_std=z_up_scale(y)"
   ]
  },
  {
   "cell_type": "code",
   "execution_count": 26,
   "id": "f7bab7f4",
   "metadata": {},
   "outputs": [
    {
     "data": {
      "text/plain": [
       "Text(0.5, 1.0, 'After scaling')"
      ]
     },
     "execution_count": 26,
     "metadata": {},
     "output_type": "execute_result"
    },
    {
     "data": {
      "image/png": "[encoded data removed]",
      "text/plain": [
       "<Figure size 864x360 with 2 Axes>"
      ]
     },
     "metadata": {
      "needs_background": "light"
     },
     "output_type": "display_data"
    }
   ],
   "source": [
    "fig,(ax1,ax2)=plt.subplots(1,2,figsize=(12,5))\n",
    "ax1.scatter(x,y)\n",
    "ax1.set_title(\"Before scaling\")\n",
    "\n",
    "ax2.scatter(x_scaled,y_scaled)\n",
    "ax2.set_title(\"After scaling\")"
   ]
  },
  {
   "cell_type": "markdown",
   "id": "e2644c97",
   "metadata": {},
   "source": [
    "Here you can see the values of x and y axis are changed to smaller values, without changing the structure of the data."
   ]
  },
  {
   "cell_type": "code",
   "execution_count": 27,
   "id": "4630a38f",
   "metadata": {},
   "outputs": [
    {
     "name": "stdout",
     "output_type": "stream",
     "text": [
      "              error         w             b\n",
      "996   991606.128466  0.263843  1.388007e-16\n",
      "997   991606.128466  0.263843  1.387475e-16\n",
      "998   991606.128466  0.263843  1.388159e-16\n",
      "999   991606.128466  0.263843  1.387627e-16\n",
      "1000  991606.128466  0.263843  1.388311e-16\n",
      "\n",
      "The final error rate is : 991606.128465745\n"
     ]
    },
    {
     "data": {
      "image/png": "[encoded data removed]",
      "text/plain": [
       "<Figure size 1440x720 with 1 Axes>"
      ]
     },
     "metadata": {
      "needs_background": "light"
     },
     "output_type": "display_data"
    }
   ],
   "source": [
    "w,b=gradient_descent(x_scaled,y_scaled,0,0,0.1,1000)  #starting the gradient from zero bias and weight"
   ]
  },
  {
   "cell_type": "code",
   "execution_count": 28,
   "id": "06c103a3",
   "metadata": {},
   "outputs": [],
   "source": [
    "model.fit(pd.DataFrame(x_scaled),y_scaled)\n",
    "f_w,f_b=fit(x_scaled,y_scaled)"
   ]
  },
  {
   "cell_type": "code",
   "execution_count": 29,
   "id": "ca46f23f",
   "metadata": {
    "scrolled": true
   },
   "outputs": [
    {
     "data": {
      "text/html": [
       "<div>\n",
       "<style scoped>\n",
       "    .dataframe tbody tr th:only-of-type {\n",
       "        vertical-align: middle;\n",
       "    }\n",
       "\n",
       "    .dataframe tbody tr th {\n",
       "        vertical-align: top;\n",
       "    }\n",
       "\n",
       "    .dataframe thead th {\n",
       "        text-align: right;\n",
       "    }\n",
       "</style>\n",
       "<table border=\"1\" class=\"dataframe\">\n",
       "  <thead>\n",
       "    <tr style=\"text-align: right;\">\n",
       "      <th></th>\n",
       "      <th>area</th>\n",
       "      <th>price</th>\n",
       "      <th>library_prediction</th>\n",
       "      <th>equation_prediction</th>\n",
       "      <th>gradient_descenting</th>\n",
       "    </tr>\n",
       "  </thead>\n",
       "  <tbody>\n",
       "    <tr>\n",
       "      <th>0</th>\n",
       "      <td>8450</td>\n",
       "      <td>208500</td>\n",
       "      <td>176580.914889</td>\n",
       "      <td>176580.914889</td>\n",
       "      <td>176580.914889</td>\n",
       "    </tr>\n",
       "    <tr>\n",
       "      <th>1</th>\n",
       "      <td>9600</td>\n",
       "      <td>181500</td>\n",
       "      <td>178995.882633</td>\n",
       "      <td>178995.882633</td>\n",
       "      <td>178995.882633</td>\n",
       "    </tr>\n",
       "    <tr>\n",
       "      <th>2</th>\n",
       "      <td>11250</td>\n",
       "      <td>223500</td>\n",
       "      <td>182460.836354</td>\n",
       "      <td>182460.836354</td>\n",
       "      <td>182460.836354</td>\n",
       "    </tr>\n",
       "    <tr>\n",
       "      <th>3</th>\n",
       "      <td>9550</td>\n",
       "      <td>140000</td>\n",
       "      <td>178890.884036</td>\n",
       "      <td>178890.884036</td>\n",
       "      <td>178890.884036</td>\n",
       "    </tr>\n",
       "    <tr>\n",
       "      <th>4</th>\n",
       "      <td>14260</td>\n",
       "      <td>250000</td>\n",
       "      <td>188781.751928</td>\n",
       "      <td>188781.751928</td>\n",
       "      <td>188781.751928</td>\n",
       "    </tr>\n",
       "  </tbody>\n",
       "</table>\n",
       "</div>"
      ],
      "text/plain": [
       "    area   price  library_prediction  equation_prediction  gradient_descenting\n",
       "0   8450  208500       176580.914889        176580.914889        176580.914889\n",
       "1   9600  181500       178995.882633        178995.882633        178995.882633\n",
       "2  11250  223500       182460.836354        182460.836354        182460.836354\n",
       "3   9550  140000       178890.884036        178890.884036        178890.884036\n",
       "4  14260  250000       188781.751928        188781.751928        188781.751928"
      ]
     },
     "execution_count": 29,
     "metadata": {},
     "output_type": "execute_result"
    }
   ],
   "source": [
    "df['library_prediction']=z_down_scale(model.predict(pd.DataFrame(x_scaled)),y_mean,y_std)\n",
    "\n",
    "df['equation_prediction']=z_down_scale(x_scaled*f_w+f_b,y_mean,y_std)\n",
    "\n",
    "df['gradient_descenting']=z_down_scale(x_scaled*w+b,y_mean,y_std)\n",
    "\n",
    "df.head()"
   ]
  },
  {
   "cell_type": "code",
   "execution_count": 30,
   "id": "91696d4c",
   "metadata": {},
   "outputs": [
    {
     "data": {
      "text/plain": [
       "Text(0.5, 1.0, 'Gradient Descent method')"
      ]
     },
     "execution_count": 30,
     "metadata": {},
     "output_type": "execute_result"
    },
    {
     "data": {
      "image/png": "[encoded data removed]",
      "text/plain": [
       "<Figure size 1080x432 with 3 Axes>"
      ]
     },
     "metadata": {
      "needs_background": "light"
     },
     "output_type": "display_data"
    }
   ],
   "source": [
    "fig,(ax1,ax2,ax3)=plt.subplots(1,3,figsize=(15,6))\n",
    "fig.suptitle('Comparing all the predictions',fontsize=20)\n",
    "\n",
    "ax1.scatter(x,y)\n",
    "ax1.plot(x,df['library_prediction'],c='r')\n",
    "ax1.set_title(\"Library method\")\n",
    "\n",
    "ax2.scatter(x,y)\n",
    "ax2.plot(x,df['equation_prediction'],c='b')\n",
    "ax2.set_title(\"Equation method\")\n",
    "\n",
    "ax3.scatter(x,y)\n",
    "ax3.plot(x,df['gradient_descenting'],c='g')\n",
    "ax3.set_title(\"Gradient Descent method\")"
   ]
  },
  {
   "cell_type": "code",
   "execution_count": 31,
   "id": "b669fd91",
   "metadata": {},
   "outputs": [
    {
     "name": "stdout",
     "output_type": "stream",
     "text": [
      "Manually calculated value : 991606.128465745\n"
     ]
    }
   ],
   "source": [
    "f_error=error_rate(x_scaled,y_scaled,f_w,f_b)\n",
    "print(\"Manually calculated value :\",f_error)"
   ]
  },
  {
   "cell_type": "code",
   "execution_count": 32,
   "id": "5afc1863",
   "metadata": {},
   "outputs": [
    {
     "name": "stdout",
     "output_type": "stream",
     "text": [
      "Library function calculated value : 991606.1284657451\n"
     ]
    }
   ],
   "source": [
    "l_error=error_rate(x_scaled,y_scaled,model.coef_[0],model.intercept_)\n",
    "print(\"Library function calculated value :\",l_error)"
   ]
  },
  {
   "cell_type": "code",
   "execution_count": 33,
   "id": "63681d97",
   "metadata": {},
   "outputs": [
    {
     "name": "stdout",
     "output_type": "stream",
     "text": [
      "Gradient descent error value : 991606.128465745\n"
     ]
    }
   ],
   "source": [
    "g_error=error_rate(x_scaled,y_scaled,w,b)\n",
    "print(\"Gradient descent error value :\",g_error)"
   ]
  },
  {
   "cell_type": "code",
   "execution_count": 34,
   "id": "5e480b7d",
   "metadata": {},
   "outputs": [],
   "source": [
    "def last_eight(num): #getting the last 9 numbers after the decimal point to compare  \n",
    "    s=str(num-int(num))\n",
    "    n=int(s[len(s)-10:])\n",
    "    return n"
   ]
  },
  {
   "cell_type": "code",
   "execution_count": 35,
   "id": "e539b9ac",
   "metadata": {},
   "outputs": [
    {
     "data": {
      "text/plain": [
       "Text(0, 0.5, 'Error')"
      ]
     },
     "execution_count": 35,
     "metadata": {},
     "output_type": "execute_result"
    },
    {
     "data": {
      "image/png": "[encoded data removed]",
      "text/plain": [
       "<Figure size 432x288 with 1 Axes>"
      ]
     },
     "metadata": {
      "needs_background": "light"
     },
     "output_type": "display_data"
    }
   ],
   "source": [
    "plt.bar(['formula','library','gradient_descent'],[last_eight(f_error),last_eight(l_error),last_eight(g_error)])\n",
    "plt.ylabel('Error')"
   ]
  },
  {
   "cell_type": "code",
   "execution_count": 36,
   "id": "390cb08b",
   "metadata": {},
   "outputs": [
    {
     "name": "stdout",
     "output_type": "stream",
     "text": [
      "The difference of error before and after scaling is : 6253850211178562.0\n"
     ]
    }
   ],
   "source": [
    "print(\"The difference of error before and after scaling is :\",f_g_error-g_error)"
   ]
  },
  {
   "cell_type": "code",
   "execution_count": 37,
   "id": "8fcbf099",
   "metadata": {},
   "outputs": [
    {
     "name": "stdout",
     "output_type": "stream",
     "text": [
      "True\n"
     ]
    }
   ],
   "source": [
    "print(f_error==g_error) "
   ]
  },
  {
   "cell_type": "markdown",
   "id": "dc167ba1",
   "metadata": {},
   "source": [
    "As you can see that the library methods has higher error then the other methods and formula method is equal to the gradient methods.I am not concluding that the library method is worse, with proper use of the parameters, the library function can work good. Still with proper tuning of the model gradient descent works even better."
   ]
  }
 ],
 "metadata": {
  "celltoolbar": "Raw Cell Format",
  "kernelspec": {
   "display_name": "Python 3 (ipykernel)",
   "language": "python",
   "name": "python3"
  },
  "language_info": {
   "codemirror_mode": {
    "name": "ipython",
    "version": 3
   },
   "file_extension": ".py",
   "mimetype": "text/x-python",
   "name": "python",
   "nbconvert_exporter": "python",
   "pygments_lexer": "ipython3",
   "version": "3.9.7"
  },
  "vscode": {
   "interpreter": {
    "hash": "9e1edbd7f15e4d61809abf2896a896810c7cdc5e9581406efad368618b197e08"
   }
  }
 },
 "nbformat": 4,
 "nbformat_minor": 5
}
