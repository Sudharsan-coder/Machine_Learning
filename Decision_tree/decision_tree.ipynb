{
 "cells": [
  {
   "cell_type": "code",
   "execution_count": 1,
   "id": "f2e9a745",
   "metadata": {},
   "outputs": [],
   "source": [
    "import pandas as pd\n",
    "import numpy as np"
   ]
  },
  {
   "cell_type": "code",
   "execution_count": 2,
   "id": "6df6a502",
   "metadata": {},
   "outputs": [],
   "source": [
    "df=pd.read_excel(\"mushroom_dataset.xlsx\")"
   ]
  },
  {
   "cell_type": "code",
   "execution_count": 3,
   "id": "1d0431f2",
   "metadata": {},
   "outputs": [
    {
     "data": {
      "text/html": [
       "<div>\n",
       "<style scoped>\n",
       "    .dataframe tbody tr th:only-of-type {\n",
       "        vertical-align: middle;\n",
       "    }\n",
       "\n",
       "    .dataframe tbody tr th {\n",
       "        vertical-align: top;\n",
       "    }\n",
       "\n",
       "    .dataframe thead th {\n",
       "        text-align: right;\n",
       "    }\n",
       "</style>\n",
       "<table border=\"1\" class=\"dataframe\">\n",
       "  <thead>\n",
       "    <tr style=\"text-align: right;\">\n",
       "      <th></th>\n",
       "      <th>Cap Color</th>\n",
       "      <th>Stalk Shape</th>\n",
       "      <th>Solitary</th>\n",
       "      <th>Edible</th>\n",
       "    </tr>\n",
       "  </thead>\n",
       "  <tbody>\n",
       "    <tr>\n",
       "      <th>0</th>\n",
       "      <td>Brown</td>\n",
       "      <td>Tapering</td>\n",
       "      <td>Yes</td>\n",
       "      <td>1</td>\n",
       "    </tr>\n",
       "    <tr>\n",
       "      <th>1</th>\n",
       "      <td>Brown</td>\n",
       "      <td>Enlarging</td>\n",
       "      <td>Yes</td>\n",
       "      <td>1</td>\n",
       "    </tr>\n",
       "    <tr>\n",
       "      <th>2</th>\n",
       "      <td>Brown</td>\n",
       "      <td>Enlarging</td>\n",
       "      <td>No</td>\n",
       "      <td>0</td>\n",
       "    </tr>\n",
       "    <tr>\n",
       "      <th>3</th>\n",
       "      <td>Brown</td>\n",
       "      <td>Enlarging</td>\n",
       "      <td>No</td>\n",
       "      <td>0</td>\n",
       "    </tr>\n",
       "    <tr>\n",
       "      <th>4</th>\n",
       "      <td>Brown</td>\n",
       "      <td>Tapering</td>\n",
       "      <td>Yes</td>\n",
       "      <td>1</td>\n",
       "    </tr>\n",
       "  </tbody>\n",
       "</table>\n",
       "</div>"
      ],
      "text/plain": [
       "  Cap Color Stalk Shape Solitary  Edible\n",
       "0     Brown    Tapering      Yes       1\n",
       "1     Brown   Enlarging      Yes       1\n",
       "2     Brown   Enlarging       No       0\n",
       "3     Brown   Enlarging       No       0\n",
       "4     Brown    Tapering      Yes       1"
      ]
     },
     "execution_count": 3,
     "metadata": {},
     "output_type": "execute_result"
    }
   ],
   "source": [
    "df.head()"
   ]
  },
  {
   "cell_type": "markdown",
   "id": "e9024030",
   "metadata": {},
   "source": [
    "# One Hot Encoding"
   ]
  },
  {
   "cell_type": "code",
   "execution_count": 4,
   "id": "0d689df5",
   "metadata": {},
   "outputs": [
    {
     "data": {
      "text/html": [
       "<div>\n",
       "<style scoped>\n",
       "    .dataframe tbody tr th:only-of-type {\n",
       "        vertical-align: middle;\n",
       "    }\n",
       "\n",
       "    .dataframe tbody tr th {\n",
       "        vertical-align: top;\n",
       "    }\n",
       "\n",
       "    .dataframe thead th {\n",
       "        text-align: right;\n",
       "    }\n",
       "</style>\n",
       "<table border=\"1\" class=\"dataframe\">\n",
       "  <thead>\n",
       "    <tr style=\"text-align: right;\">\n",
       "      <th></th>\n",
       "      <th>Edible</th>\n",
       "      <th>Cap Color_Brown</th>\n",
       "      <th>Cap Color_Red</th>\n",
       "      <th>Stalk Shape_Enlarging</th>\n",
       "      <th>Stalk Shape_Tapering</th>\n",
       "      <th>Soltary_No</th>\n",
       "      <th>Soltary_Yes</th>\n",
       "    </tr>\n",
       "  </thead>\n",
       "  <tbody>\n",
       "    <tr>\n",
       "      <th>0</th>\n",
       "      <td>1</td>\n",
       "      <td>1</td>\n",
       "      <td>0</td>\n",
       "      <td>0</td>\n",
       "      <td>1</td>\n",
       "      <td>0</td>\n",
       "      <td>1</td>\n",
       "    </tr>\n",
       "    <tr>\n",
       "      <th>1</th>\n",
       "      <td>1</td>\n",
       "      <td>1</td>\n",
       "      <td>0</td>\n",
       "      <td>1</td>\n",
       "      <td>0</td>\n",
       "      <td>0</td>\n",
       "      <td>1</td>\n",
       "    </tr>\n",
       "    <tr>\n",
       "      <th>2</th>\n",
       "      <td>0</td>\n",
       "      <td>1</td>\n",
       "      <td>0</td>\n",
       "      <td>1</td>\n",
       "      <td>0</td>\n",
       "      <td>1</td>\n",
       "      <td>0</td>\n",
       "    </tr>\n",
       "    <tr>\n",
       "      <th>3</th>\n",
       "      <td>0</td>\n",
       "      <td>1</td>\n",
       "      <td>0</td>\n",
       "      <td>1</td>\n",
       "      <td>0</td>\n",
       "      <td>1</td>\n",
       "      <td>0</td>\n",
       "    </tr>\n",
       "    <tr>\n",
       "      <th>4</th>\n",
       "      <td>1</td>\n",
       "      <td>1</td>\n",
       "      <td>0</td>\n",
       "      <td>0</td>\n",
       "      <td>1</td>\n",
       "      <td>0</td>\n",
       "      <td>1</td>\n",
       "    </tr>\n",
       "    <tr>\n",
       "      <th>5</th>\n",
       "      <td>0</td>\n",
       "      <td>0</td>\n",
       "      <td>1</td>\n",
       "      <td>0</td>\n",
       "      <td>1</td>\n",
       "      <td>0</td>\n",
       "      <td>1</td>\n",
       "    </tr>\n",
       "    <tr>\n",
       "      <th>6</th>\n",
       "      <td>0</td>\n",
       "      <td>0</td>\n",
       "      <td>1</td>\n",
       "      <td>1</td>\n",
       "      <td>0</td>\n",
       "      <td>1</td>\n",
       "      <td>0</td>\n",
       "    </tr>\n",
       "    <tr>\n",
       "      <th>7</th>\n",
       "      <td>1</td>\n",
       "      <td>1</td>\n",
       "      <td>0</td>\n",
       "      <td>1</td>\n",
       "      <td>0</td>\n",
       "      <td>0</td>\n",
       "      <td>1</td>\n",
       "    </tr>\n",
       "    <tr>\n",
       "      <th>8</th>\n",
       "      <td>1</td>\n",
       "      <td>0</td>\n",
       "      <td>1</td>\n",
       "      <td>0</td>\n",
       "      <td>1</td>\n",
       "      <td>1</td>\n",
       "      <td>0</td>\n",
       "    </tr>\n",
       "    <tr>\n",
       "      <th>9</th>\n",
       "      <td>0</td>\n",
       "      <td>1</td>\n",
       "      <td>0</td>\n",
       "      <td>1</td>\n",
       "      <td>0</td>\n",
       "      <td>1</td>\n",
       "      <td>0</td>\n",
       "    </tr>\n",
       "  </tbody>\n",
       "</table>\n",
       "</div>"
      ],
      "text/plain": [
       "   Edible  Cap Color_Brown  Cap Color_Red  Stalk Shape_Enlarging  \\\n",
       "0       1                1              0                      0   \n",
       "1       1                1              0                      1   \n",
       "2       0                1              0                      1   \n",
       "3       0                1              0                      1   \n",
       "4       1                1              0                      0   \n",
       "5       0                0              1                      0   \n",
       "6       0                0              1                      1   \n",
       "7       1                1              0                      1   \n",
       "8       1                0              1                      0   \n",
       "9       0                1              0                      1   \n",
       "\n",
       "   Stalk Shape_Tapering  Soltary_No  Soltary_Yes  \n",
       "0                     1           0            1  \n",
       "1                     0           0            1  \n",
       "2                     0           1            0  \n",
       "3                     0           1            0  \n",
       "4                     1           0            1  \n",
       "5                     1           0            1  \n",
       "6                     0           1            0  \n",
       "7                     0           0            1  \n",
       "8                     1           1            0  \n",
       "9                     0           1            0  "
      ]
     },
     "execution_count": 4,
     "metadata": {},
     "output_type": "execute_result"
    }
   ],
   "source": [
    "df=pd.get_dummies(df,['Cap Color','Stalk Shape','Soltary']) # we can also use the sklearn libraries onehotencoder method \n",
    "df"
   ]
  },
  {
   "cell_type": "code",
   "execution_count": 5,
   "id": "5829a467",
   "metadata": {},
   "outputs": [
    {
     "data": {
      "text/plain": [
       "Index(['Edible', 'Cap Color_Brown', 'Cap Color_Red', 'Stalk Shape_Enlarging',\n",
       "       'Stalk Shape_Tapering', 'Soltary_No', 'Soltary_Yes'],\n",
       "      dtype='object')"
      ]
     },
     "execution_count": 5,
     "metadata": {},
     "output_type": "execute_result"
    }
   ],
   "source": [
    "cols=df.columns #saving the columns names in a variable\n",
    "cols"
   ]
  },
  {
   "cell_type": "code",
   "execution_count": 6,
   "id": "afd896d3",
   "metadata": {},
   "outputs": [],
   "source": [
    "x=np.array(df.drop('Edible',axis=1)) #independent variable "
   ]
  },
  {
   "cell_type": "code",
   "execution_count": 7,
   "id": "a59f339d",
   "metadata": {},
   "outputs": [],
   "source": [
    "y=np.array(df['Edible']) # dependent variable"
   ]
  },
  {
   "cell_type": "code",
   "execution_count": 8,
   "id": "4e03cc5d",
   "metadata": {},
   "outputs": [
    {
     "data": {
      "text/plain": [
       "array([[1, 0, 0, 1, 0, 1],\n",
       "       [1, 0, 1, 0, 0, 1],\n",
       "       [1, 0, 1, 0, 1, 0],\n",
       "       [1, 0, 1, 0, 1, 0],\n",
       "       [1, 0, 0, 1, 0, 1],\n",
       "       [0, 1, 0, 1, 0, 1],\n",
       "       [0, 1, 1, 0, 1, 0],\n",
       "       [1, 0, 1, 0, 0, 1],\n",
       "       [0, 1, 0, 1, 1, 0],\n",
       "       [1, 0, 1, 0, 1, 0]], dtype=uint8)"
      ]
     },
     "execution_count": 8,
     "metadata": {},
     "output_type": "execute_result"
    }
   ],
   "source": [
    "x"
   ]
  },
  {
   "cell_type": "code",
   "execution_count": 9,
   "id": "d2d077f3",
   "metadata": {},
   "outputs": [
    {
     "data": {
      "text/plain": [
       "array([1, 1, 0, 0, 1, 0, 0, 1, 1, 0], dtype=int64)"
      ]
     },
     "execution_count": 9,
     "metadata": {},
     "output_type": "execute_result"
    }
   ],
   "source": [
    "y"
   ]
  },
  {
   "cell_type": "markdown",
   "id": "237a916c",
   "metadata": {},
   "source": [
    "# Entropy:\n",
    "<pre>Entroy can be defined as the amount of change\n",
    "    Formula :\n",
    "             -c*log<sub>2</sub><sup>(c)</sup>-(1-c)*log<sub>2</sub><sup>(1-c)</sup>\n",
    "             here c is the number of correct values"
   ]
  },
  {
   "cell_type": "code",
   "execution_count": 10,
   "id": "17ec18a8",
   "metadata": {},
   "outputs": [],
   "source": [
    "def entropy(x):\n",
    "    if(len(x)==0):\n",
    "        return 0;\n",
    "    \n",
    "    crt=len(x[x==1])/len(x)\n",
    "    \n",
    "    if crt==0 or crt==1:  # when all the correct or incorrect the value is zero\n",
    "        return 0;\n",
    "    \n",
    "    ans=(-crt*(np.log2(crt))-(1-crt)*(np.log2(1-crt)))    \n",
    "    return ans"
   ]
  },
  {
   "cell_type": "code",
   "execution_count": 11,
   "id": "2ea54d59",
   "metadata": {},
   "outputs": [
    {
     "data": {
      "text/plain": [
       "1.0"
      ]
     },
     "execution_count": 11,
     "metadata": {},
     "output_type": "execute_result"
    }
   ],
   "source": [
    "entropy(x[3]) "
   ]
  },
  {
   "cell_type": "markdown",
   "id": "a8cc601e",
   "metadata": {},
   "source": [
    "# Split:\n",
    "<pre>We have to slite the tree based on a secific feature\n",
    "     To do this, we will keep the true values at right and false values at left"
   ]
  },
  {
   "cell_type": "code",
   "execution_count": 12,
   "id": "c373e18d",
   "metadata": {},
   "outputs": [],
   "source": [
    "def split(x,data_no,feature):  #every time we have to split using secific data only, so to knew that secific data we have this data_no variable which will contain the specific data indexes\n",
    "    left=[] \n",
    "    right=[]  #to store the true colulmns\n",
    "    for i in data_no:\n",
    "        if(x[i][feature]==1):\n",
    "            right.append(i) #storing the true column index\n",
    "        else:\n",
    "            left.append(i) #storing the false column index\n",
    "    return left,right"
   ]
  },
  {
   "cell_type": "code",
   "execution_count": 13,
   "id": "78007dbf",
   "metadata": {},
   "outputs": [
    {
     "name": "stdout",
     "output_type": "stream",
     "text": [
      "[0, 1, 2, 3, 4, 7, 9] [5, 6, 8]\n"
     ]
    }
   ],
   "source": [
    "left,right=split(x,[0,1,2,3,4,5,6,7,8,9],1) #checking the split method by spliting the data with respec to 'Cap Color_Red' column\n",
    "print(left,right)"
   ]
  },
  {
   "cell_type": "markdown",
   "id": "7dbd7d8d",
   "metadata": {},
   "source": [
    "From the result we can see that the Cap Color_Red column is false for the data with indexes 0,1,2,3,4,7,9 and true for 5,6,8"
   ]
  },
  {
   "cell_type": "markdown",
   "id": "36096fbe",
   "metadata": {},
   "source": [
    "# Information gain\n",
    "<pre>The information gain is used to select which column or feature is the best among all the data to split.\n",
    "It is simply called as the weighted entropy.\n",
    "Formula:\n",
    "        root_entropy - (w1*data1_entropy + w2*data2_entropy)\n",
    "        here w1 is the weight of data1 means total data/total data in root\n",
    "             w2 is the weight of data2"
   ]
  },
  {
   "cell_type": "code",
   "execution_count": 14,
   "id": "30dd90b3",
   "metadata": {},
   "outputs": [],
   "source": [
    "def information_gain(x,y,data_no,feature):\n",
    "    root_entropy=entropy(y[data_no])\n",
    "    left,right=split(x,data_no,feature)\n",
    "    left_weight=len(left)/len(data_no) #w1\n",
    "    right_weight=len(right)/len(data_no) #w2\n",
    "    info=root_entropy-(left_weight*entropy(y[left])+right_weight*entropy(y[right]))\n",
    "    return info"
   ]
  },
  {
   "cell_type": "code",
   "execution_count": 15,
   "id": "11fa7953",
   "metadata": {},
   "outputs": [
    {
     "data": {
      "text/plain": [
       "0.12451124978365313"
      ]
     },
     "execution_count": 15,
     "metadata": {},
     "output_type": "execute_result"
    }
   ],
   "source": [
    "information_gain(x,y,[0,1,2,3,4,5,6,7,8,9],3) #testing the method"
   ]
  },
  {
   "cell_type": "markdown",
   "id": "15ffd741",
   "metadata": {},
   "source": [
    "# Tree creation\n",
    "- Now we have to create a tree based on the information gain on the sepcific data each time we have.\n",
    "- Once the feature or column is selected based on the info gain it has to be splited and that index has to be saved in a  tree format.\n",
    "- Then call the function with only the left index data to classify it seperatly and same for right.\n",
    "- Finally save all the columns split index in a Binary tree and return its object."
   ]
  },
  {
   "cell_type": "code",
   "execution_count": 81,
   "id": "35c9b10a",
   "metadata": {},
   "outputs": [],
   "source": [
    "import graphviz\n",
    "\n",
    "class Tree:\n",
    "\n",
    "    def __init__(self,data):  #creating the tree structure \n",
    "        self.left=None\n",
    "        self.right=None\n",
    "        self.data=data\n",
    "        \n",
    "    def display(self): #in-order traversel\n",
    "        if(self.left):\n",
    "            self.left.display()\n",
    "        print(self.data)\n",
    "        if(self.right):\n",
    "            self.right.display()    \n",
    "            \n",
    "    def visualize_binary_tree(root):  #visualizing the tree\n",
    "        dot = graphviz.Digraph()\n",
    "        dot.node(str(root.data))\n",
    "\n",
    "        def add_nodes_edges(node):\n",
    "            if node.left:\n",
    "                dot.node(str(node.left.data))\n",
    "                dot.edge(str(node.data), str(node.left.data))\n",
    "                add_nodes_edges(node.left)\n",
    "\n",
    "            if node.right:\n",
    "                dot.node(str(node.right.data))\n",
    "                dot.edge(str(node.data), str(node.right.data))\n",
    "                add_nodes_edges(node.right)\n",
    "\n",
    "        add_nodes_edges(root)\n",
    "        dot.render('binary_tree', view=True, format='png')  #saving the image with the name of binary_tree"
   ]
  },
  {
   "cell_type": "code",
   "execution_count": 82,
   "id": "2f01af2a",
   "metadata": {},
   "outputs": [],
   "source": [
    "def generate_tree(x,y,data_no,max_depth,current_depth,sign,self):\n",
    "    \n",
    "    if (current_depth>max_depth): #break the iteration when the max is reached \n",
    "        return 0;\n",
    "    \n",
    "    if (len(data_no)==1): #when there is only one data then that y value is the answer\n",
    "        print(f\"The {sign} of depth {current_depth-1} answer is : {y[data_no][0]}\\n\")\n",
    "        temp=Tree((y[data_no][0],current_depth,sign)) #creating the node\n",
    "        self=temp #connecing the node\n",
    "        return self\n",
    "    \n",
    "    \n",
    "    max_info=0\n",
    "    max_index=0\n",
    "    for i in range(x.shape[1]):\n",
    "        information=information_gain(x,y,data_no,i)\n",
    "        if(information>max_info): #finding the index with maximum info_gain value\n",
    "            max_index=i\n",
    "            max_info=information\n",
    "            \n",
    "    \n",
    "    temp=Tree((max_index,current_depth,sign)) #create a node\n",
    "    self=temp #connecting the node\n",
    "    print(f\"The best column to split among {data_no} is {cols[max_index+1]} {max_index})\")\n",
    "    print(f\"sign: {sign}, depth: {current_depth}\")\n",
    "    left,right=split(x,data_no,max_index)\n",
    "    print(f\"Left values are : {left}\")\n",
    "    print(f\"Right indexs are : {right}\\n\\n\")\n",
    "    \n",
    "    \n",
    "    if(len(left)==0): #if there is no values in the left side, then all the right values have same value, so we can use anyone of the value as answer\n",
    "        print(f\"The {sign} of depth {current_depth} answer is : {y[data_no[0]]}\\n\")\n",
    "        temp=Tree((y[data_no[0]],current_depth,sign)) #creating the node\n",
    "        self=temp #connecting the node\n",
    "        return self\n",
    "    \n",
    "    if(len(right)==0): #if there is no values in the right side, then all the left values have same value, so we can use anyone of the value as answer\n",
    "        print(f\"The {sign} of depth {current_depth} answer is : {y[data_no[0]]}\\n\")\n",
    "        temp=Tree((y[data_no[0]],current_depth,sign)) #creating the node\n",
    "        self=temp #connecting the node\n",
    "        return self\n",
    "    \n",
    "    self.left=generate_tree(x,y,left,max_depth,current_depth+1,\"left\",self) #recursively calling the function with the left values\n",
    "    self.right=generate_tree(x,y,right,max_depth,current_depth+1,\"right\",self) #recursively calling the function with the right values\n",
    "    \n",
    "    return self #finaly returning the head of the binary tree "
   ]
  },
  {
   "cell_type": "code",
   "execution_count": 83,
   "id": "3f709055",
   "metadata": {},
   "outputs": [
    {
     "name": "stdout",
     "output_type": "stream",
     "text": [
      "The best column to split among [0, 1, 2, 3, 4, 5, 6, 7, 8, 9] is Soltary_No 4)\n",
      "sign: root, depth: 0\n",
      "Left values are : [0, 1, 4, 5, 7]\n",
      "Right indexs are : [2, 3, 6, 8, 9]\n",
      "\n",
      "\n",
      "The best column to split among [0, 1, 4, 5, 7] is Cap Color_Brown 0)\n",
      "sign: left, depth: 1\n",
      "Left values are : [5]\n",
      "Right indexs are : [0, 1, 4, 7]\n",
      "\n",
      "\n",
      "The left of depth 1 answer is : 0\n",
      "\n",
      "The best column to split among [0, 1, 4, 7] is Cap Color_Brown 0)\n",
      "sign: right, depth: 2\n",
      "Left values are : []\n",
      "Right indexs are : [0, 1, 4, 7]\n",
      "\n",
      "\n",
      "The right of depth 2 answer is : 1\n",
      "\n",
      "The best column to split among [2, 3, 6, 8, 9] is Stalk Shape_Enlarging 2)\n",
      "sign: right, depth: 1\n",
      "Left values are : [8]\n",
      "Right indexs are : [2, 3, 6, 9]\n",
      "\n",
      "\n",
      "The left of depth 1 answer is : 1\n",
      "\n",
      "The best column to split among [2, 3, 6, 9] is Cap Color_Brown 0)\n",
      "sign: right, depth: 2\n",
      "Left values are : [6]\n",
      "Right indexs are : [2, 3, 9]\n",
      "\n",
      "\n",
      "The left of depth 2 answer is : 0\n",
      "\n",
      "The best column to split among [2, 3, 9] is Cap Color_Brown 0)\n",
      "sign: right, depth: 3\n",
      "Left values are : []\n",
      "Right indexs are : [2, 3, 9]\n",
      "\n",
      "\n",
      "The right of depth 3 answer is : 0\n",
      "\n"
     ]
    }
   ],
   "source": [
    "decision=Tree(-1) #creating a node to start with\n",
    "ans=generate_tree(x,y,[0,1,2,3,4,5,6,7,8,9],5,0,\"root\",decision) #calling the generate function and storing the tree in ans variable"
   ]
  },
  {
   "cell_type": "code",
   "execution_count": 84,
   "id": "e4a8ba84",
   "metadata": {},
   "outputs": [
    {
     "name": "stdout",
     "output_type": "stream",
     "text": [
      "(0, 2, 'left')\n",
      "(0, 1, 'left')\n",
      "(1, 2, 'right')\n",
      "(4, 0, 'root')\n",
      "(1, 2, 'left')\n",
      "(2, 1, 'right')\n",
      "(0, 3, 'left')\n",
      "(0, 2, 'right')\n",
      "(0, 3, 'right')\n"
     ]
    }
   ],
   "source": [
    "ans.display()  #displaying the tree using in-order traversel"
   ]
  },
  {
   "cell_type": "code",
   "execution_count": 62,
   "id": "efbab373",
   "metadata": {},
   "outputs": [],
   "source": [
    "ans.visualize_binary_tree()  # when calling this function it store the result as a png format"
   ]
  },
  {
   "cell_type": "code",
   "execution_count": 63,
   "id": "a40f2552",
   "metadata": {},
   "outputs": [
    {
     "data": {
      "image/png": "[encoded data removed]",
      "text/plain": [
       "<IPython.core.display.Image object>"
      ]
     },
     "execution_count": 63,
     "metadata": {},
     "output_type": "execute_result"
    }
   ],
   "source": [
    "from IPython import display   # displaying the visualized tree image\n",
    "display.Image(\"binary_tree.png\")"
   ]
  },
  {
   "cell_type": "code",
   "execution_count": 85,
   "id": "7fe2064e",
   "metadata": {},
   "outputs": [],
   "source": [
    "def predict(decision,x):\n",
    "    if(decision.left==None and decision.right==None): #when the leaf node is reached return the data\n",
    "        return decision.data[0]\n",
    "    if(x[decision.data[0]]==1):\n",
    "        return predict(decision.right,x)\n",
    "    else:\n",
    "        return predict(decision.left,x)\n",
    "    "
   ]
  },
  {
   "cell_type": "code",
   "execution_count": 86,
   "id": "61e8cf36",
   "metadata": {},
   "outputs": [],
   "source": [
    "def predict_all(decision,x):\n",
    "    ans=[]\n",
    "    for i in range(x.shape[0]):\n",
    "        ans.append(predict(decision,x[i]))\n",
    "    return ans"
   ]
  },
  {
   "cell_type": "code",
   "execution_count": 87,
   "id": "7e1b8172",
   "metadata": {},
   "outputs": [],
   "source": [
    "y_pre=predict_all(ans,x)"
   ]
  },
  {
   "cell_type": "code",
   "execution_count": 89,
   "id": "382b6f6d",
   "metadata": {},
   "outputs": [
    {
     "data": {
      "text/plain": [
       "array([[1, 1, 0, 0, 1, 0, 0, 1, 1, 0],\n",
       "       [1, 1, 0, 0, 1, 0, 0, 1, 1, 0]], dtype=int64)"
      ]
     },
     "execution_count": 89,
     "metadata": {},
     "output_type": "execute_result"
    }
   ],
   "source": [
    "np.vstack((y,y_pre))  #comparing the true and predicted values"
   ]
  }
 ],
 "metadata": {
  "kernelspec": {
   "display_name": "Python 3 (ipykernel)",
   "language": "python",
   "name": "python3"
  },
  "language_info": {
   "codemirror_mode": {
    "name": "ipython",
    "version": 3
   },
   "file_extension": ".py",
   "mimetype": "text/x-python",
   "name": "python",
   "nbconvert_exporter": "python",
   "pygments_lexer": "ipython3",
   "version": "3.9.7"
  }
 },
 "nbformat": 4,
 "nbformat_minor": 5
}
