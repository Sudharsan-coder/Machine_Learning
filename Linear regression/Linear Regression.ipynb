{
 "cells": [
  {
   "cell_type": "markdown",
   "id": "b44aed70",
   "metadata": {},
   "source": [
    "<h1>Linear Regression<h1>"
   ]
  },
  {
   "cell_type": "markdown",
   "id": "0ca5073c",
   "metadata": {},
   "source": [
    "Linear regression is a supervised machine learning algorithm used to predict a numerical value given a set of features or independent variables. It is a type of regression analysis that models the relationship between a dependent variable and one or more independent variables by fitting a linear equation to observed data. The linear regression algorithm is used to uncover the correlation between variables and predict future outcomes. It is used in a wide range of applications, such as predicting housing prices, analyzing risk in financial markets, and forecasting sales and demand."
   ]
  },
  {
   "cell_type": "code",
   "execution_count": 1,
   "id": "a39c4535",
   "metadata": {},
   "outputs": [],
   "source": [
    "import numpy as np\n",
    "import pandas as pd"
   ]
  },
  {
   "cell_type": "code",
   "execution_count": 2,
   "id": "bbe0d301",
   "metadata": {},
   "outputs": [],
   "source": [
    "df=pd.read_csv(\"dataset.csv\")"
   ]
  },
  {
   "cell_type": "code",
   "execution_count": 3,
   "id": "3bb4fcc2",
   "metadata": {},
   "outputs": [
    {
     "data": {
      "text/html": [
       "<div>\n",
       "<style scoped>\n",
       "    .dataframe tbody tr th:only-of-type {\n",
       "        vertical-align: middle;\n",
       "    }\n",
       "\n",
       "    .dataframe tbody tr th {\n",
       "        vertical-align: top;\n",
       "    }\n",
       "\n",
       "    .dataframe thead th {\n",
       "        text-align: right;\n",
       "    }\n",
       "</style>\n",
       "<table border=\"1\" class=\"dataframe\">\n",
       "  <thead>\n",
       "    <tr style=\"text-align: right;\">\n",
       "      <th></th>\n",
       "      <th>area</th>\n",
       "      <th>price</th>\n",
       "    </tr>\n",
       "  </thead>\n",
       "  <tbody>\n",
       "    <tr>\n",
       "      <th>0</th>\n",
       "      <td>8450</td>\n",
       "      <td>208500</td>\n",
       "    </tr>\n",
       "    <tr>\n",
       "      <th>1</th>\n",
       "      <td>9600</td>\n",
       "      <td>181500</td>\n",
       "    </tr>\n",
       "    <tr>\n",
       "      <th>2</th>\n",
       "      <td>11250</td>\n",
       "      <td>223500</td>\n",
       "    </tr>\n",
       "    <tr>\n",
       "      <th>3</th>\n",
       "      <td>9550</td>\n",
       "      <td>140000</td>\n",
       "    </tr>\n",
       "    <tr>\n",
       "      <th>4</th>\n",
       "      <td>14260</td>\n",
       "      <td>250000</td>\n",
       "    </tr>\n",
       "  </tbody>\n",
       "</table>\n",
       "</div>"
      ],
      "text/plain": [
       "    area   price\n",
       "0   8450  208500\n",
       "1   9600  181500\n",
       "2  11250  223500\n",
       "3   9550  140000\n",
       "4  14260  250000"
      ]
     },
     "execution_count": 3,
     "metadata": {},
     "output_type": "execute_result"
    }
   ],
   "source": [
    "df.head()"
   ]
  },
  {
   "cell_type": "code",
   "execution_count": 4,
   "id": "f69b0955",
   "metadata": {},
   "outputs": [],
   "source": [
    "x=np.array(df['area']) #independent variable\n",
    "y=np.array(df['price']) #dependent variable"
   ]
  },
  {
   "cell_type": "code",
   "execution_count": 5,
   "id": "63d1bf76",
   "metadata": {},
   "outputs": [
    {
     "data": {
      "text/plain": [
       "array([[  8450,   9600,  11250, ...,   9042,   9717,   9937],\n",
       "       [208500, 181500, 223500, ..., 266500, 142125, 147500]], dtype=int64)"
      ]
     },
     "execution_count": 5,
     "metadata": {},
     "output_type": "execute_result"
    }
   ],
   "source": [
    "np.vstack((x,y))"
   ]
  },
  {
   "cell_type": "markdown",
   "id": "ce22f059",
   "metadata": {},
   "source": [
    "<h1>Manual Method<h1>"
   ]
  },
  {
   "cell_type": "markdown",
   "id": "6b97cd90",
   "metadata": {},
   "source": [
    "Formula :<br>\n",
    "<pre style=\"font-family:verdana;\">Main Equation : y=a+bx (which is much similar to the straight line equation y=mx+c)<br>\n",
    "    here b is called the coefficient<br>\n",
    "         a is called the intercept<br><br>\n",
    "    To find b : b=r*(std(y)/std(x))<br>\n",
    "    where r=(sum((x-x_mean)*(y-y_mean))/sqrt(sum(x-x_mean)**2 * sum(y-y_mean)**2)))<br><br>\n",
    "    To find a : a=b*x_mean-y_mean\n",
    "</pre>    "
   ]
  },
  {
   "cell_type": "code",
   "execution_count": 6,
   "id": "799bfcbb",
   "metadata": {},
   "outputs": [],
   "source": [
    "x_mean=np.mean(x)\n",
    "y_mean=np.mean(y)\n",
    "numerator=0\n",
    "denominator_x=0\n",
    "denominator_y=0\n",
    "for i in range(len(x)):\n",
    "    numerator+=(x[i]-x_mean)*(y[i]-y_mean)\n",
    "    denominator_x+=(x[i]-x_mean)**2\n",
    "    denominator_y+=(y[i]-y_mean)**2\n",
    "r=numerator/np.sqrt(denominator_x*denominator_y)"
   ]
  },
  {
   "cell_type": "code",
   "execution_count": 7,
   "id": "1ebaa68e",
   "metadata": {},
   "outputs": [],
   "source": [
    "b=r*(np.std(y)/np.std(x))"
   ]
  },
  {
   "cell_type": "code",
   "execution_count": 8,
   "id": "2ea6076e",
   "metadata": {},
   "outputs": [],
   "source": [
    "a=b*x_mean-y_mean"
   ]
  },
  {
   "cell_type": "code",
   "execution_count": 9,
   "id": "28435eff",
   "metadata": {},
   "outputs": [],
   "source": [
    "y=a+b*x"
   ]
  },
  {
   "cell_type": "code",
   "execution_count": 10,
   "id": "e98f61ac",
   "metadata": {},
   "outputs": [],
   "source": [
    "def predict(x_value):\n",
    "    return a+b*x_value  #formula for the final equation"
   ]
  },
  {
   "cell_type": "code",
   "execution_count": 11,
   "id": "9af7e701",
   "metadata": {},
   "outputs": [],
   "source": [
    "manual_predict_value=[]\n",
    "for i in range(len(x)):\n",
    "    manual_predict_value.append(predict(x[i])) "
   ]
  },
  {
   "cell_type": "markdown",
   "id": "fd9b3aa1",
   "metadata": {},
   "source": [
    "<h1>Using the sklearn library<h1>"
   ]
  },
  {
   "cell_type": "code",
   "execution_count": 12,
   "id": "f949e6e8",
   "metadata": {},
   "outputs": [],
   "source": [
    "from sklearn.linear_model import LinearRegression\n",
    "model=LinearRegression()\n",
    "model.fit(pd.DataFrame(x),y)  #training the model\n",
    "model_predict_value=model.predict(pd.DataFrame(x))    #testing the model"
   ]
  },
  {
   "cell_type": "markdown",
   "id": "7b033884",
   "metadata": {},
   "source": [
    "<h3>Comparing the manual value with the library model value<h3>"
   ]
  },
  {
   "cell_type": "code",
   "execution_count": 13,
   "id": "46520f35",
   "metadata": {},
   "outputs": [],
   "source": [
    "predict={'manul_predict':manual_predict_value,'model_predict':model_predict_value}\n",
    "result=pd.DataFrame(predict,columns=predict.keys())"
   ]
  },
  {
   "cell_type": "code",
   "execution_count": 14,
   "id": "fe83fe3f",
   "metadata": {},
   "outputs": [
    {
     "data": {
      "text/html": [
       "<div>\n",
       "<style scoped>\n",
       "    .dataframe tbody tr th:only-of-type {\n",
       "        vertical-align: middle;\n",
       "    }\n",
       "\n",
       "    .dataframe tbody tr th {\n",
       "        vertical-align: top;\n",
       "    }\n",
       "\n",
       "    .dataframe thead th {\n",
       "        text-align: right;\n",
       "    }\n",
       "</style>\n",
       "<table border=\"1\" class=\"dataframe\">\n",
       "  <thead>\n",
       "    <tr style=\"text-align: right;\">\n",
       "      <th></th>\n",
       "      <th>manul_predict</th>\n",
       "      <th>model_predict</th>\n",
       "    </tr>\n",
       "  </thead>\n",
       "  <tbody>\n",
       "    <tr>\n",
       "      <th>0</th>\n",
       "      <td>-141091.388905</td>\n",
       "      <td>-141091.388905</td>\n",
       "    </tr>\n",
       "    <tr>\n",
       "      <th>1</th>\n",
       "      <td>-138676.421160</td>\n",
       "      <td>-138676.421160</td>\n",
       "    </tr>\n",
       "    <tr>\n",
       "      <th>2</th>\n",
       "      <td>-135211.467440</td>\n",
       "      <td>-135211.467440</td>\n",
       "    </tr>\n",
       "    <tr>\n",
       "      <th>3</th>\n",
       "      <td>-138781.419758</td>\n",
       "      <td>-138781.419758</td>\n",
       "    </tr>\n",
       "    <tr>\n",
       "      <th>4</th>\n",
       "      <td>-128890.551866</td>\n",
       "      <td>-128890.551866</td>\n",
       "    </tr>\n",
       "  </tbody>\n",
       "</table>\n",
       "</div>"
      ],
      "text/plain": [
       "   manul_predict  model_predict\n",
       "0 -141091.388905 -141091.388905\n",
       "1 -138676.421160 -138676.421160\n",
       "2 -135211.467440 -135211.467440\n",
       "3 -138781.419758 -138781.419758\n",
       "4 -128890.551866 -128890.551866"
      ]
     },
     "execution_count": 14,
     "metadata": {},
     "output_type": "execute_result"
    }
   ],
   "source": [
    "result.head()"
   ]
  },
  {
   "cell_type": "markdown",
   "id": "138e7522",
   "metadata": {},
   "source": [
    "<h1>Visualization<h1> "
   ]
  },
  {
   "cell_type": "code",
   "execution_count": 15,
   "id": "084a2bc8",
   "metadata": {},
   "outputs": [
    {
     "data": {
      "text/plain": [
       "[<matplotlib.lines.Line2D at 0x1bc4671d460>]"
      ]
     },
     "execution_count": 15,
     "metadata": {},
     "output_type": "execute_result"
    },
    {
     "data": {
      "image/png": "[encoded data removed]",
      "text/plain": [
       "<Figure size 432x288 with 1 Axes>"
      ]
     },
     "metadata": {
      "needs_background": "light"
     },
     "output_type": "display_data"
    }
   ],
   "source": [
    "import matplotlib.pyplot as plt\n",
    "plt.scatter(x,y,c='r')\n",
    "plt.plot(x,manual_predict_value,c='g')"
   ]
  }
 ],
 "metadata": {
  "celltoolbar": "Raw Cell Format",
  "kernelspec": {
   "display_name": "Python 3 (ipykernel)",
   "language": "python",
   "name": "python3"
  },
  "language_info": {
   "codemirror_mode": {
    "name": "ipython",
    "version": 3
   },
   "file_extension": ".py",
   "mimetype": "text/x-python",
   "name": "python",
   "nbconvert_exporter": "python",
   "pygments_lexer": "ipython3",
   "version": "3.9.7"
  }
 },
 "nbformat": 4,
 "nbformat_minor": 5
}
