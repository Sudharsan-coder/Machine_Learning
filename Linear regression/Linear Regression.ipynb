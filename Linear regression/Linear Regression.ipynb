{
 "cells": [
  {
   "cell_type": "markdown",
   "id": "b44aed70",
   "metadata": {},
   "source": [
    "<h1>Linear Regression<h1>"
   ]
  },
  {
   "cell_type": "markdown",
   "id": "0ca5073c",
   "metadata": {},
   "source": [
    "Linear regression is a supervised machine learning algorithm used to predict a numerical value given a set of features or independent variables. It is a type of regression analysis that models the relationship between a dependent variable and one or more independent variables by fitting a linear equation to observed data. The linear regression algorithm is used to uncover the correlation between variables and predict future outcomes. It is used in a wide range of applications, such as predicting housing prices, analyzing risk in financial markets, and forecasting sales and demand."
   ]
  },
  {
   "cell_type": "code",
   "execution_count": 1,
   "id": "a39c4535",
   "metadata": {},
   "outputs": [],
   "source": [
    "import numpy as np\n",
    "import pandas as pd"
   ]
  },
  {
   "cell_type": "code",
   "execution_count": 2,
   "id": "bbe0d301",
   "metadata": {},
   "outputs": [],
   "source": [
    "df=pd.read_csv(\"dataset.csv\")"
   ]
  },
  {
   "cell_type": "code",
   "execution_count": 3,
   "id": "3bb4fcc2",
   "metadata": {},
   "outputs": [
    {
     "data": {
      "text/html": [
       "<div>\n",
       "<style scoped>\n",
       "    .dataframe tbody tr th:only-of-type {\n",
       "        vertical-align: middle;\n",
       "    }\n",
       "\n",
       "    .dataframe tbody tr th {\n",
       "        vertical-align: top;\n",
       "    }\n",
       "\n",
       "    .dataframe thead th {\n",
       "        text-align: right;\n",
       "    }\n",
       "</style>\n",
       "<table border=\"1\" class=\"dataframe\">\n",
       "  <thead>\n",
       "    <tr style=\"text-align: right;\">\n",
       "      <th></th>\n",
       "      <th>area</th>\n",
       "      <th>price</th>\n",
       "    </tr>\n",
       "  </thead>\n",
       "  <tbody>\n",
       "    <tr>\n",
       "      <th>0</th>\n",
       "      <td>8450</td>\n",
       "      <td>208500</td>\n",
       "    </tr>\n",
       "    <tr>\n",
       "      <th>1</th>\n",
       "      <td>9600</td>\n",
       "      <td>181500</td>\n",
       "    </tr>\n",
       "    <tr>\n",
       "      <th>2</th>\n",
       "      <td>11250</td>\n",
       "      <td>223500</td>\n",
       "    </tr>\n",
       "    <tr>\n",
       "      <th>3</th>\n",
       "      <td>9550</td>\n",
       "      <td>140000</td>\n",
       "    </tr>\n",
       "    <tr>\n",
       "      <th>4</th>\n",
       "      <td>14260</td>\n",
       "      <td>250000</td>\n",
       "    </tr>\n",
       "  </tbody>\n",
       "</table>\n",
       "</div>"
      ],
      "text/plain": [
       "    area   price\n",
       "0   8450  208500\n",
       "1   9600  181500\n",
       "2  11250  223500\n",
       "3   9550  140000\n",
       "4  14260  250000"
      ]
     },
     "execution_count": 3,
     "metadata": {},
     "output_type": "execute_result"
    }
   ],
   "source": [
    "df.head()"
   ]
  },
  {
   "cell_type": "code",
   "execution_count": 4,
   "id": "f69b0955",
   "metadata": {},
   "outputs": [],
   "source": [
    "x=np.array(df['area']) #independent variable\n",
    "y=np.array(df['price']) #dependent variable"
   ]
  },
  {
   "cell_type": "code",
   "execution_count": 5,
   "id": "63d1bf76",
   "metadata": {},
   "outputs": [
    {
     "data": {
      "text/plain": [
       "array([[  8450,   9600,  11250, ...,   9042,   9717,   9937],\n",
       "       [208500, 181500, 223500, ..., 266500, 142125, 147500]], dtype=int64)"
      ]
     },
     "execution_count": 5,
     "metadata": {},
     "output_type": "execute_result"
    }
   ],
   "source": [
    "np.vstack((x,y))"
   ]
  },
  {
   "cell_type": "markdown",
   "id": "ce22f059",
   "metadata": {},
   "source": [
    "<h1>Manual Method<h1>"
   ]
  },
  {
   "cell_type": "markdown",
   "id": "6b97cd90",
   "metadata": {},
   "source": [
    "## Formula :<br>\n",
    "<pre style=\"font-family:verdana;\">    Main Equation : y=wx+b (which is much similar to the straight line equation y=mx+c)<br>\n",
    "         here w is called the coefficient<br>\n",
    "                 b is called the intercept<br><br>\n",
    "    To find w : w=r*(std(y)/std(x))<br>\n",
    "         where r=(sum((x-x_mean)*(y-y_mean))/sqrt(sum(x-x_mean)**2 * sum(y-y_mean)**2)))<br><br>\n",
    "    To find a : b=w*x_mean-y_mean\n",
    "</pre>    "
   ]
  },
  {
   "cell_type": "code",
   "execution_count": 6,
   "id": "799bfcbb",
   "metadata": {},
   "outputs": [],
   "source": [
    "x_mean=np.mean(x)\n",
    "y_mean=np.mean(y)\n",
    "numerator=0\n",
    "denominator_x=0\n",
    "denominator_y=0\n",
    "for i in range(len(x)):\n",
    "    numerator+=(x[i]-x_mean)*(y[i]-y_mean)\n",
    "    denominator_x+=(x[i]-x_mean)**2\n",
    "    denominator_y+=(y[i]-y_mean)**2\n",
    "r=numerator/np.sqrt(denominator_x*denominator_y)"
   ]
  },
  {
   "cell_type": "code",
   "execution_count": 7,
   "id": "1ebaa68e",
   "metadata": {},
   "outputs": [],
   "source": [
    "w=r*(np.std(y)/np.std(x))"
   ]
  },
  {
   "cell_type": "code",
   "execution_count": 8,
   "id": "2ea6076e",
   "metadata": {},
   "outputs": [],
   "source": [
    "b=abs(w*x_mean-y_mean)"
   ]
  },
  {
   "cell_type": "code",
   "execution_count": 9,
   "id": "28435eff",
   "metadata": {},
   "outputs": [],
   "source": [
    "Y=w*x+b"
   ]
  },
  {
   "cell_type": "code",
   "execution_count": 10,
   "id": "e98f61ac",
   "metadata": {},
   "outputs": [],
   "source": [
    "def predict(x_value):\n",
    "    return w*x_value+b  #formula for the final equation"
   ]
  },
  {
   "cell_type": "code",
   "execution_count": 11,
   "id": "9af7e701",
   "metadata": {},
   "outputs": [],
   "source": [
    "manual_predict_value=[]\n",
    "for i in range(len(x)):\n",
    "    manual_predict_value.append(predict(x[i])) "
   ]
  },
  {
   "cell_type": "markdown",
   "id": "fd9b3aa1",
   "metadata": {},
   "source": [
    "<h1>Using the sklearn library<h1>"
   ]
  },
  {
   "cell_type": "code",
   "execution_count": 12,
   "id": "f949e6e8",
   "metadata": {},
   "outputs": [],
   "source": [
    "from sklearn.linear_model import LinearRegression\n",
    "model=LinearRegression()\n",
    "model.fit(pd.DataFrame(x),y)  #training the model\n",
    "model_predict_value=model.predict(pd.DataFrame(x))    #testing the model"
   ]
  },
  {
   "cell_type": "markdown",
   "id": "7b033884",
   "metadata": {},
   "source": [
    "<h3>Comparing the manual value with the library model value<h3>"
   ]
  },
  {
   "cell_type": "code",
   "execution_count": 13,
   "id": "e6cb44f6",
   "metadata": {},
   "outputs": [
    {
     "name": "stdout",
     "output_type": "stream",
     "text": [
      "2.0999719517076754 2.09997195170768\n",
      "158836.15189687657 158836.15189687654\n"
     ]
    }
   ],
   "source": [
    "print(model.coef_[0],w)\n",
    "print(model.intercept_,b)"
   ]
  },
  {
   "cell_type": "code",
   "execution_count": 14,
   "id": "46520f35",
   "metadata": {},
   "outputs": [],
   "source": [
    "predict={'manul_predict':manual_predict_value,'model_predict':model_predict_value}\n",
    "result=pd.DataFrame(predict,columns=predict.keys())"
   ]
  },
  {
   "cell_type": "code",
   "execution_count": 15,
   "id": "fe83fe3f",
   "metadata": {},
   "outputs": [
    {
     "data": {
      "text/html": [
       "<div>\n",
       "<style scoped>\n",
       "    .dataframe tbody tr th:only-of-type {\n",
       "        vertical-align: middle;\n",
       "    }\n",
       "\n",
       "    .dataframe tbody tr th {\n",
       "        vertical-align: top;\n",
       "    }\n",
       "\n",
       "    .dataframe thead th {\n",
       "        text-align: right;\n",
       "    }\n",
       "</style>\n",
       "<table border=\"1\" class=\"dataframe\">\n",
       "  <thead>\n",
       "    <tr style=\"text-align: right;\">\n",
       "      <th></th>\n",
       "      <th>manul_predict</th>\n",
       "      <th>model_predict</th>\n",
       "    </tr>\n",
       "  </thead>\n",
       "  <tbody>\n",
       "    <tr>\n",
       "      <th>0</th>\n",
       "      <td>176580.914889</td>\n",
       "      <td>176580.914889</td>\n",
       "    </tr>\n",
       "    <tr>\n",
       "      <th>1</th>\n",
       "      <td>178995.882633</td>\n",
       "      <td>178995.882633</td>\n",
       "    </tr>\n",
       "    <tr>\n",
       "      <th>2</th>\n",
       "      <td>182460.836354</td>\n",
       "      <td>182460.836354</td>\n",
       "    </tr>\n",
       "    <tr>\n",
       "      <th>3</th>\n",
       "      <td>178890.884036</td>\n",
       "      <td>178890.884036</td>\n",
       "    </tr>\n",
       "    <tr>\n",
       "      <th>4</th>\n",
       "      <td>188781.751928</td>\n",
       "      <td>188781.751928</td>\n",
       "    </tr>\n",
       "  </tbody>\n",
       "</table>\n",
       "</div>"
      ],
      "text/plain": [
       "   manul_predict  model_predict\n",
       "0  176580.914889  176580.914889\n",
       "1  178995.882633  178995.882633\n",
       "2  182460.836354  182460.836354\n",
       "3  178890.884036  178890.884036\n",
       "4  188781.751928  188781.751928"
      ]
     },
     "execution_count": 15,
     "metadata": {},
     "output_type": "execute_result"
    }
   ],
   "source": [
    "result.head()"
   ]
  },
  {
   "cell_type": "markdown",
   "id": "138e7522",
   "metadata": {},
   "source": [
    "<h1>Visualization<h1> "
   ]
  },
  {
   "cell_type": "code",
   "execution_count": 16,
   "id": "2872d8d6",
   "metadata": {},
   "outputs": [
    {
     "data": {
      "text/plain": [
       "Text(0, 0.5, 'price')"
      ]
     },
     "execution_count": 16,
     "metadata": {},
     "output_type": "execute_result"
    },
    {
     "data": {
      "image/png": "[encoded data removed]",
      "text/plain": [
       "<Figure size 432x288 with 1 Axes>"
      ]
     },
     "metadata": {
      "needs_background": "light"
     },
     "output_type": "display_data"
    }
   ],
   "source": [
    "import matplotlib.pyplot as plt\n",
    "plt.scatter(x,y,c='g',marker='*')\n",
    "plt.plot(x,manual_predict_value,c='r',linestyle=':')\n",
    "plt.xlabel(\"area\")\n",
    "plt.ylabel(\"price\")"
   ]
  },
  {
   "cell_type": "markdown",
   "id": "f3af2fc4",
   "metadata": {},
   "source": [
    "This is an overfitted model, as you can see the model has well fitted with the training data, when a new data(testing data) is given then this model struggles to find the correct output"
   ]
  },
  {
   "cell_type": "markdown",
   "id": "a0ff656e",
   "metadata": {},
   "source": [
    "<h1>ERROR</h1>\n",
    "\n",
    "## formula<br>\n",
    "<pre style=\"font-family:verdana;\">error=sum((y-y^)**2)/n\n",
    "</per>"
   ]
  },
  {
   "cell_type": "code",
   "execution_count": 17,
   "id": "0ae3241c",
   "metadata": {},
   "outputs": [
    {
     "name": "stdout",
     "output_type": "stream",
     "text": [
      "5867752122.509081\n"
     ]
    }
   ],
   "source": [
    "error=0\n",
    "n=0\n",
    "for pre_y,orig_y in zip(manual_predict_value,y):\n",
    "    error+=(pre_y-orig_y)**2\n",
    "    n+=1\n",
    "error/=n\n",
    "print(error)"
   ]
  },
  {
   "cell_type": "code",
   "execution_count": 18,
   "id": "5d6da336",
   "metadata": {},
   "outputs": [
    {
     "name": "stdout",
     "output_type": "stream",
     "text": [
      "5867752122.509074\n"
     ]
    }
   ],
   "source": [
    "from sklearn.metrics import mean_squared_error\n",
    "print(mean_squared_error(model_predict_value,y))"
   ]
  }
 ],
 "metadata": {
  "celltoolbar": "Raw Cell Format",
  "kernelspec": {
   "display_name": "Python 3 (ipykernel)",
   "language": "python",
   "name": "python3"
  },
  "language_info": {
   "codemirror_mode": {
    "name": "ipython",
    "version": 3
   },
   "file_extension": ".py",
   "mimetype": "text/x-python",
   "name": "python",
   "nbconvert_exporter": "python",
   "pygments_lexer": "ipython3",
   "version": "3.9.7"
  }
 },
 "nbformat": 4,
 "nbformat_minor": 5
}
